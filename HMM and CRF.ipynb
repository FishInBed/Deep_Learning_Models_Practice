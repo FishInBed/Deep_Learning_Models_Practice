{
 "cells": [
  {
   "attachments": {},
   "cell_type": "markdown",
   "metadata": {},
   "source": [
    "**余盈蓓；語碩二；110555009**\\\n",
    "**111-2 Computational Linguistics**\n",
    "<p align=\"center\", style = \"font-size:18pt\">\n",
    "<b>6th Assignment<br>\n",
    "HMM and CRF</b>\n",
    "</p>"
   ]
  },
  {
   "attachments": {},
   "cell_type": "markdown",
   "metadata": {},
   "source": [
    "<p align=\"center\", style = \"font-size:16pt\">\n",
    "<b>Hidden Markov Model</b>\n",
    "</p>\n",
    "\n",
    "<p align=\"center\">\n",
    "下面嘗試使用HMM來測試簡單的中文斷詞。會選擇中文斷詞是因為中文斷詞跟英文斷詞不同，無法透過簡單尋找空格來進行。<br>\n",
    "利用HMM可以像是做NER一樣，給予每一個中文字標記他是詞的起始、中間、或是結尾，藉此完成斷詞的需求。下面因為只是簡單嘗試的關係，就只用詞首(S)跟詞中(I)兩種標記。\n",
    "<br>"
   ]
  },
  {
   "attachments": {},
   "cell_type": "markdown",
   "metadata": {},
   "source": [
    "<p style = \"font-size:14pt\">\n",
    "<b>Step 1. 資料前處理</b>\n",
    "</p>\n",
    "<p style = \"font-size:12pt\">\n",
    "✨資料準備<br>\n",
    "&emsp;&ensp;下面會用「這是鴨」、「那是鴨嘴獸」、「這是鴨蛋」三句話當作corpus來進行。畫出來的HMM模型如下所示：\n",
    "</p>"
   ]
  },
  {
   "attachments": {},
   "cell_type": "markdown",
   "metadata": {},
   "source": [
    "<img src=\"https://i.ibb.co/hL0KzxK/2023-04-03-155242.png\" width = \"600\">\n",
    "<table>\n",
    "<tr>\n",
    "  <th>&emsp;&emsp;</th>\n",
    "  <th>這</th>\n",
    "  <th>是</th>\n",
    "  <th>那</th>\n",
    "  <th>鴨</th>\n",
    "  <th>嘴</th>\n",
    "  <th>獸</th>\n",
    "  <th>蛋</th>\n",
    "<tr>\n",
    "<tr>\n",
    "  <td><b>詞首 B</b></td>\n",
    "  <td>0.2</td>\n",
    "  <td>0.3</td>\n",
    "  <td>0.1</td>\n",
    "  <td>0.3</td>\n",
    "  <td>0</td>\n",
    "  <td>0</td>\n",
    "  <td>0.1</td>\n",
    "</tr>\n",
    "<tr>\n",
    "  <td><b>詞中 I</b></td>\n",
    "  <td>0</td>\n",
    "  <td>0</td>\n",
    "  <td>0</td>\n",
    "  <td>0</td>\n",
    "  <td>0.5</td>\n",
    "  <td>0.5</td>\n",
    "  <td>0</td>\n",
    "</tr>\n",
    "  </table>"
   ]
  },
  {
   "cell_type": "code",
   "execution_count": 67,
   "metadata": {},
   "outputs": [],
   "source": [
    "import numpy as np\n",
    "\n",
    "hidden_state_ch = [\"B\", \"I\"]\n",
    "n_state_ch = len(hidden_state_ch)\n",
    "\n",
    "observation_type_ch = list(\"這是那鴨嘴獸蛋\")\n",
    "n_observed_type_ch = len(observation_type_ch)\n",
    "\n",
    "start_prob_ch = np.array([1,0])\n",
    "\n",
    "trans_prob_ch = np.array([\n",
    "    [0.875, 0.125],\n",
    "    [0, 1]\n",
    "])\n",
    "\n",
    "emi_prob_ch = np.array([\n",
    "    [0.2, 0.3, 0.1, 0.3, 0, 0, 0.1],\n",
    "    [0, 0, 0, 0, 0.5, 0.5, 0]\n",
    "])"
   ]
  },
  {
   "attachments": {},
   "cell_type": "markdown",
   "metadata": {},
   "source": [
    "<p style = \"font-size:14pt\">\n",
    "<b>Step 2. 模型訓練&預測</b>\n",
    "</p>\n",
    "<p style = \"font-size:12pt\">\n",
    "✨Default Algorithm\n",
    "</p>"
   ]
  },
  {
   "cell_type": "code",
   "execution_count": 68,
   "metadata": {},
   "outputs": [
    {
     "name": "stderr",
     "output_type": "stream",
     "text": [
      "Fitting a model with 13 free scalar parameters with only 5 data points will result in a degenerate solution.\n"
     ]
    },
    {
     "name": "stdout",
     "output_type": "stream",
     "text": [
      "Real Observation: 這, 是, 鴨, 嘴, 獸\n",
      "Output of hidden states: B, I, B, I, B\n"
     ]
    }
   ],
   "source": [
    "from hmmlearn import hmm\n",
    "\n",
    "ch_model = hmm.CategoricalHMM(n_components=n_state_ch, random_state=20)\n",
    "ch_model.startprob = start_prob_ch\n",
    "ch_model.transmat = trans_prob_ch\n",
    "ch_model.emissionprob = emi_prob_ch\n",
    "\n",
    "# predict a sequence of hidden states based on visible states\n",
    "real_observation_ch = np.array([[0, 1, 3, 4, 5]]).T\n",
    "raw_ch_model = ch_model.fit(real_observation_ch)\n",
    "logprob_ch, output_hidden_ch = raw_ch_model.decode(real_observation_ch)\n",
    "\n",
    "print(\"Real Observation:\", \", \".join(map(lambda x: observation_type_ch[x], real_observation_ch.T[0])))\n",
    "print(\"Output of hidden states:\", \", \".join(map(lambda x: hidden_state_ch[x], output_hidden_ch)))"
   ]
  },
  {
   "attachments": {},
   "cell_type": "markdown",
   "metadata": {},
   "source": [
    "<p style = \"font-size:12pt\">\n",
    "✨Viterbi Algorithm\n",
    "</p>"
   ]
  },
  {
   "cell_type": "code",
   "execution_count": 69,
   "metadata": {},
   "outputs": [
    {
     "name": "stderr",
     "output_type": "stream",
     "text": [
      "Fitting a model with 13 free scalar parameters with only 5 data points will result in a degenerate solution.\n"
     ]
    },
    {
     "name": "stdout",
     "output_type": "stream",
     "text": [
      "Real Observation: 這, 是, 鴨, 嘴, 獸\n",
      "Output of hidden states: B, I, B, I, B\n"
     ]
    }
   ],
   "source": [
    "ch_model_vi = hmm.CategoricalHMM(n_components=n_state_ch, algorithm='viterbi', random_state=20)\n",
    "ch_model_vi.startprob = start_prob_ch\n",
    "ch_model_vi.transmat = trans_prob_ch\n",
    "ch_model_vi.emissionprob = emi_prob_ch\n",
    "\n",
    "# predict a sequence of hidden states based on visible states\n",
    "vi_ch_model = ch_model_vi.fit(real_observation_ch)\n",
    "logprob_ch_vi, output_hidden_ch_vi = vi_ch_model.decode(real_observation_ch)\n",
    "\n",
    "print(\"Real Observation:\", \", \".join(map(lambda x: observation_type_ch[x], real_observation_ch.T[0])))\n",
    "print(\"Output of hidden states:\", \", \".join(map(lambda x: hidden_state_ch[x], output_hidden_ch_vi)))"
   ]
  },
  {
   "attachments": {},
   "cell_type": "markdown",
   "metadata": {},
   "source": [
    "<p align = \"center\", style = \"font-size:16pt\">\n",
    "    🧐<b>討論</b>🧐<br>\n",
    "</p>\n",
    "<p style = \"font-size:12pt\">\n",
    "&emsp;&emsp;因為是用很小的corpus跟比較粗糙的標記方式（一般來說會有起始、中間、結束、跟單字成詞四種標籤）來試驗，所以不管是從時間還是結果都看不太出原本的計算方式跟viterbee的差異，有點可惜。\n",
    "</p>"
   ]
  },
  {
   "attachments": {},
   "cell_type": "markdown",
   "metadata": {},
   "source": [
    "<p align=\"center\", style = \"font-size:16pt\">\n",
    "<b>Conditional Random Field</b>\n",
    "</p>\n",
    "\n",
    "<p style = \"font-size:14pt\">\n",
    "<b>Step 1. 資料前處理</b>\n",
    "</p>\n",
    "<p style = \"font-size:12pt\">\n",
    "✨資料下載\n",
    "</p>"
   ]
  },
  {
   "cell_type": "code",
   "execution_count": 71,
   "metadata": {},
   "outputs": [
    {
     "name": "stderr",
     "output_type": "stream",
     "text": [
      "[nltk_data] Downloading package conll2002 to\n",
      "[nltk_data]     C:\\Users\\c5227\\AppData\\Roaming\\nltk_data...\n",
      "[nltk_data]   Unzipping corpora\\conll2002.zip.\n"
     ]
    },
    {
     "data": {
      "text/plain": [
       "True"
      ]
     },
     "execution_count": 71,
     "metadata": {},
     "output_type": "execute_result"
    }
   ],
   "source": [
    "import nltk\n",
    "\n",
    "nltk.download('conll2002')"
   ]
  },
  {
   "attachments": {},
   "cell_type": "markdown",
   "metadata": {},
   "source": [
    "<p style = \"font-size:12pt\">\n",
    "✨資料準備<br>\n",
    "&emsp;&ensp;下面選用西班牙文的資料利用CRF進行NER任務\n",
    "</p>"
   ]
  },
  {
   "cell_type": "code",
   "execution_count": 72,
   "metadata": {},
   "outputs": [],
   "source": [
    "train_sents = list(nltk.corpus.conll2002.iob_sents('esp.train'))\n",
    "test_sents = list(nltk.corpus.conll2002.iob_sents('esp.testb'))\n",
    "dev_sents = list(nltk.corpus.conll2002.iob_sents('esp.testa'))"
   ]
  },
  {
   "cell_type": "code",
   "execution_count": 73,
   "metadata": {},
   "outputs": [
    {
     "data": {
      "text/plain": [
       "[('Melbourne', 'NP', 'B-LOC'),\n",
       " ('(', 'Fpa', 'O'),\n",
       " ('Australia', 'NP', 'B-LOC'),\n",
       " (')', 'Fpt', 'O'),\n",
       " (',', 'Fc', 'O'),\n",
       " ('25', 'Z', 'O'),\n",
       " ('may', 'NC', 'O'),\n",
       " ('(', 'Fpa', 'O'),\n",
       " ('EFE', 'NC', 'B-ORG'),\n",
       " (')', 'Fpt', 'O'),\n",
       " ('.', 'Fp', 'O')]"
      ]
     },
     "execution_count": 73,
     "metadata": {},
     "output_type": "execute_result"
    }
   ],
   "source": [
    "train_sents[0]"
   ]
  },
  {
   "attachments": {},
   "cell_type": "markdown",
   "metadata": {},
   "source": [
    "<p style = \"font-size:12pt\">\n",
    "✨特徵萃取<br>\n",
    "&emsp;&ensp;因為重點想放在參數的調整上面，所以這邊使用的是跟示範一樣的特徵。\n",
    "</p>"
   ]
  },
  {
   "cell_type": "code",
   "execution_count": 74,
   "metadata": {},
   "outputs": [],
   "source": [
    "def word2features(sent, i):\n",
    "    word = sent[i][0]\n",
    "    postag = sent[i][1]\n",
    "\n",
    "    features = {\n",
    "        'bias': 1.0,\n",
    "        'word.lower()': word.lower(),\n",
    "        'word[-3:]': word[-3:],\n",
    "        'word[-2:]': word[-2:],\n",
    "        'word.isupper()': word.isupper(),\n",
    "        'word.istitle()': word.istitle(),\n",
    "        'word.isdigit()': word.isdigit(),\n",
    "        'postag': postag,\n",
    "        'postag[:2]': postag[:2],\n",
    "    }\n",
    "    if i > 0:\n",
    "        word1 = sent[i-1][0]\n",
    "        postag1 = sent[i-1][1]\n",
    "        features.update({\n",
    "            '-1:word.lower()': word1.lower(),\n",
    "            '-1:word.istitle()': word1.istitle(),\n",
    "            '-1:word.isupper()': word1.isupper(),\n",
    "            '-1:postag': postag1,\n",
    "            '-1:postag[:2]': postag1[:2],\n",
    "        })\n",
    "    else:\n",
    "        features['BOS'] = True\n",
    "\n",
    "    if i < len(sent)-1:\n",
    "        word1 = sent[i+1][0]\n",
    "        postag1 = sent[i+1][1]\n",
    "        features.update({\n",
    "            '+1:word.lower()': word1.lower(),\n",
    "            '+1:word.istitle()': word1.istitle(),\n",
    "            '+1:word.isupper()': word1.isupper(),\n",
    "            '+1:postag': postag1,\n",
    "            '+1:postag[:2]': postag1[:2],\n",
    "        })\n",
    "    else:\n",
    "        features['EOS'] = True\n",
    "\n",
    "    return features\n",
    "\n",
    "\n",
    "def sent2features(sent):\n",
    "    return [word2features(sent, i) for i in range(len(sent))]\n",
    "\n",
    "def sent2labels(sent):\n",
    "    return [label for token, postag, label in sent]\n",
    "\n",
    "def sent2tokens(sent):\n",
    "    return [token for token, postag, label in sent]   "
   ]
  },
  {
   "cell_type": "code",
   "execution_count": 77,
   "metadata": {},
   "outputs": [],
   "source": [
    "feat_train = [sent2features(s) for s in train_sents]\n",
    "label_train = [sent2labels(s) for s in train_sents]\n",
    "\n",
    "feat_test = [sent2features(s) for s in test_sents]\n",
    "label_test = [sent2labels(s) for s in test_sents]\n",
    "\n",
    "\n",
    "feat_dev = [sent2features(s) for s in dev_sents]\n",
    "label_dev = [sent2labels(s) for s in dev_sents]"
   ]
  },
  {
   "attachments": {},
   "cell_type": "markdown",
   "metadata": {},
   "source": [
    "<p style = \"font-size:14pt\">\n",
    "<b>Step 2. 模型訓練</b>\n",
    "</p>\n",
    "<p style = \"font-size:12pt\">\n",
    "✨參數調整－資料生成<br>\n",
    "&emsp;&ensp;因為只有<code>True</code>跟<code>False</code>兩種選項，比較好處理，首先針對<code>all_possible_transitions</code>這個參數進行測試\n",
    "</p>"
   ]
  },
  {
   "cell_type": "code",
   "execution_count": 120,
   "metadata": {},
   "outputs": [],
   "source": [
    "import sklearn_crfsuite\n",
    "\n",
    "crf_1 = sklearn_crfsuite.CRF(\n",
    "    algorithm='lbfgs',\n",
    "    c1=0.1,\n",
    "    c2=0.1,\n",
    "    max_iterations=100,\n",
    "    all_possible_transitions=True\n",
    ")\n",
    "\n",
    "\n",
    "try:\n",
    "    crf_1.fit(feat_train, label_train)\n",
    "except AttributeError:\n",
    "    pass\n",
    "\n",
    "labels = list(crf_1.classes_)\n",
    "labels.remove('O')"
   ]
  },
  {
   "cell_type": "code",
   "execution_count": 121,
   "metadata": {},
   "outputs": [
    {
     "data": {
      "text/plain": [
       "0.7597018558327985"
      ]
     },
     "execution_count": 121,
     "metadata": {},
     "output_type": "execute_result"
    }
   ],
   "source": [
    "from sklearn_crfsuite import scorers\n",
    "from sklearn_crfsuite import metrics\n",
    "\n",
    "label_pred_1 = crf_1.predict(feat_dev)\n",
    "metrics.flat_f1_score(label_dev, label_pred_1,\n",
    "                      average='weighted', labels=labels)"
   ]
  },
  {
   "cell_type": "code",
   "execution_count": 122,
   "metadata": {},
   "outputs": [
    {
     "data": {
      "text/plain": [
       "0.7644976073373478"
      ]
     },
     "execution_count": 122,
     "metadata": {},
     "output_type": "execute_result"
    }
   ],
   "source": [
    "crf_2 = sklearn_crfsuite.CRF(\n",
    "    algorithm='lbfgs',\n",
    "    c1=0.1,\n",
    "    c2=0.1,\n",
    "    max_iterations=100,\n",
    "    all_possible_transitions=False\n",
    ")\n",
    "\n",
    "\n",
    "try:\n",
    "    crf_2.fit(feat_train, label_train)\n",
    "except AttributeError:\n",
    "    pass\n",
    "\n",
    "label_pred_2 = crf_2.predict(feat_dev)\n",
    "metrics.flat_f1_score(label_dev, label_pred_2,\n",
    "                      average='weighted', labels=labels)"
   ]
  },
  {
   "attachments": {},
   "cell_type": "markdown",
   "metadata": {},
   "source": [
    "<p style = \"font-size:12pt\">\n",
    "✨參數調整－L1 Regularization <code>c1</code><br>\n",
    "&emsp;&ensp;L1 penalty主要做的事情是讓不重要的特徵重要性接近0一點，所以下面測試從0.01~0.5，什麼樣的數值能得到比較好的結果。\n",
    "</p>"
   ]
  },
  {
   "cell_type": "code",
   "execution_count": 123,
   "metadata": {},
   "outputs": [],
   "source": [
    "l1_score = []\n",
    "for i in range(51):\n",
    "    crf = sklearn_crfsuite.CRF(\n",
    "        algorithm='lbfgs',\n",
    "        c1=0.01*(i),\n",
    "        c2=0.1,\n",
    "        max_iterations=100,\n",
    "        all_possible_transitions=False\n",
    "    )\n",
    "    try:\n",
    "        crf.fit(feat_train, label_train)\n",
    "    except AttributeError:\n",
    "        pass\n",
    "    label_pred = crf.predict(feat_dev)\n",
    "    score = metrics.flat_f1_score(label_dev, label_pred,\n",
    "                      average='weighted', labels=labels)\n",
    "    l1_score.append([0.01*i, score])"
   ]
  },
  {
   "cell_type": "code",
   "execution_count": 124,
   "metadata": {},
   "outputs": [
    {
     "data": {
      "text/plain": [
       "<AxesSubplot:xlabel='l1_penalty', ylabel='accuracy'>"
      ]
     },
     "execution_count": 124,
     "metadata": {},
     "output_type": "execute_result"
    },
    {
     "data": {
      "image/png": "[encoded data removed]",
      "text/plain": [
       "<Figure size 640x480 with 1 Axes>"
      ]
     },
     "metadata": {},
     "output_type": "display_data"
    }
   ],
   "source": [
    "%matplotlib inline\n",
    "import pandas as pd\n",
    "import seaborn as sns\n",
    "import matplotlib.pyplot as plt\n",
    "\n",
    "l1_data = pd.DataFrame(l1_score, columns = [\"l1_penalty\", \"accuracy\"])\n",
    "\n",
    "sns.lineplot(\n",
    "data=l1_data, x=\"l1_penalty\", y=\"accuracy\")"
   ]
  },
  {
   "attachments": {},
   "cell_type": "markdown",
   "metadata": {},
   "source": [
    "<p style = \"font-size:12pt\">\n",
    "✨參數調整－L2 Regularization <code>c2</code><br>\n",
    "&emsp;&ensp;L2 penalty跟L1一樣要讓特徵重要性接近0一點，所以下面一樣測試從0.01~0.5，什麼樣的數值能得到比較好的結果。\n",
    "</p>"
   ]
  },
  {
   "cell_type": "code",
   "execution_count": 125,
   "metadata": {},
   "outputs": [
    {
     "name": "stdout",
     "output_type": "stream",
     "text": [
      "model 0 done\n",
      "model 1 done\n",
      "model 2 done\n",
      "model 3 done\n",
      "model 4 done\n",
      "model 5 done\n",
      "model 6 done\n",
      "model 7 done\n",
      "model 8 done\n",
      "model 9 done\n",
      "model 10 done\n",
      "model 11 done\n",
      "model 12 done\n",
      "model 13 done\n",
      "model 14 done\n",
      "model 15 done\n",
      "model 16 done\n",
      "model 17 done\n",
      "model 18 done\n",
      "model 19 done\n",
      "model 20 done\n",
      "model 21 done\n",
      "model 22 done\n",
      "model 23 done\n",
      "model 24 done\n",
      "model 25 done\n",
      "model 26 done\n",
      "model 27 done\n",
      "model 28 done\n",
      "model 29 done\n",
      "model 30 done\n",
      "model 31 done\n",
      "model 32 done\n",
      "model 33 done\n",
      "model 34 done\n",
      "model 35 done\n",
      "model 36 done\n",
      "model 37 done\n",
      "model 38 done\n",
      "model 39 done\n",
      "model 40 done\n",
      "model 41 done\n",
      "model 42 done\n",
      "model 43 done\n",
      "model 44 done\n",
      "model 45 done\n",
      "model 46 done\n",
      "model 47 done\n",
      "model 48 done\n",
      "model 49 done\n",
      "model 50 done\n"
     ]
    }
   ],
   "source": [
    "l2_score = []\n",
    "for i in range(51):\n",
    "    crf = sklearn_crfsuite.CRF(\n",
    "        algorithm='lbfgs',\n",
    "        c1=0.02,\n",
    "        c2=0.01*i,\n",
    "        max_iterations=100,\n",
    "        all_possible_transitions=False\n",
    "    )\n",
    "    try:\n",
    "        crf.fit(feat_train, label_train)\n",
    "    except AttributeError:\n",
    "        pass\n",
    "    label_pred = crf.predict(feat_dev)\n",
    "    score = metrics.flat_f1_score(label_dev, label_pred,\n",
    "                      average='weighted', labels=labels)\n",
    "    l2_score.append([0.01*i, score])\n",
    "    print(\"model \" + str(i) + \" done\")"
   ]
  },
  {
   "cell_type": "code",
   "execution_count": 126,
   "metadata": {},
   "outputs": [
    {
     "data": {
      "text/plain": [
       "<AxesSubplot:xlabel='l2_penalty', ylabel='accuracy'>"
      ]
     },
     "execution_count": 126,
     "metadata": {},
     "output_type": "execute_result"
    },
    {
     "data": {
      "image/png": "[encoded data removed]",
      "text/plain": [
       "<Figure size 640x480 with 1 Axes>"
      ]
     },
     "metadata": {},
     "output_type": "display_data"
    }
   ],
   "source": [
    "%matplotlib inline\n",
    "\n",
    "l2_data = pd.DataFrame(l2_score, columns = [\"l2_penalty\", \"accuracy\"])\n",
    "\n",
    "sns.lineplot(\n",
    "data=l2_data, x=\"l2_penalty\", y=\"accuracy\")"
   ]
  },
  {
   "attachments": {},
   "cell_type": "markdown",
   "metadata": {},
   "source": [
    "<p style = \"font-size:12pt\">\n",
    "✨參數調整－循環次數 <code>max_iteration</code><br>\n",
    "&emsp;&ensp;根據之前幾次模型訓練的經驗，大概都到200次左右就一定會收斂了，所以這邊保險一點嘗試從50到500，看幾次會到極限。\n",
    "</p>"
   ]
  },
  {
   "cell_type": "code",
   "execution_count": 127,
   "metadata": {},
   "outputs": [
    {
     "name": "stdout",
     "output_type": "stream",
     "text": [
      "model 0 done\n",
      "model 1 done\n",
      "model 2 done\n",
      "model 3 done\n",
      "model 4 done\n",
      "model 5 done\n",
      "model 6 done\n",
      "model 7 done\n",
      "model 8 done\n",
      "model 9 done\n"
     ]
    }
   ],
   "source": [
    "iter_score = [[0,0]]\n",
    "for i in range(10):\n",
    "    crf = sklearn_crfsuite.CRF(\n",
    "        algorithm='lbfgs',\n",
    "        c1=0.04,\n",
    "        c2=0.08,\n",
    "        max_iterations=50*(i+1),\n",
    "        all_possible_transitions=False\n",
    "    )\n",
    "    try:\n",
    "        crf.fit(feat_train, label_train)\n",
    "    except AttributeError:\n",
    "        pass\n",
    "    label_pred = crf.predict(feat_dev)\n",
    "    score = metrics.flat_f1_score(label_dev, label_pred,\n",
    "                      average='weighted', labels=labels)\n",
    "    iter_score.append([50*i, score])\n",
    "    print(\"model \" + str(i) + \" done\")"
   ]
  },
  {
   "cell_type": "code",
   "execution_count": 128,
   "metadata": {},
   "outputs": [
    {
     "data": {
      "text/plain": [
       "<AxesSubplot:xlabel='iteration', ylabel='accuracy'>"
      ]
     },
     "execution_count": 128,
     "metadata": {},
     "output_type": "execute_result"
    },
    {
     "data": {
      "image/png": "[encoded data removed]",
      "text/plain": [
       "<Figure size 640x480 with 1 Axes>"
      ]
     },
     "metadata": {},
     "output_type": "display_data"
    }
   ],
   "source": [
    "%matplotlib inline\n",
    "for i in range(10):\n",
    "    iter_score[i+1][0] = 50*(i+1)\n",
    "iter_data = pd.DataFrame(iter_score, columns = [\"iteration\", \"accuracy\"])\n",
    "\n",
    "sns.lineplot(\n",
    "data=iter_data, x=\"iteration\", y=\"accuracy\")"
   ]
  },
  {
   "cell_type": "code",
   "execution_count": 129,
   "metadata": {},
   "outputs": [
    {
     "name": "stdout",
     "output_type": "stream",
     "text": [
      "[50, 0.7622039788509029]\n",
      "[100, 0.7657640734720724]\n",
      "[150, 0.7678691334189351]\n",
      "[200, 0.7664729540168768]\n"
     ]
    }
   ],
   "source": [
    "print(iter_score[1])\n",
    "print(iter_score[2])\n",
    "print(iter_score[3])\n",
    "print(iter_score[4])"
   ]
  },
  {
   "attachments": {},
   "cell_type": "markdown",
   "metadata": {},
   "source": [
    "<p align = \"center\", style = \"font-size:16pt\">\n",
    "    🧐<b>討論</b>🧐<br>\n",
    "</p>\n",
    "<p style = \"font-size:12pt\">\n",
    "&emsp;&emsp;從上面可以看到不讓HMM模型自動生成資料中沒有出現的組合會得到比較好的成績。因為語言資料在能結合的東西上有一定的規律，所以如果讓模型自己生成一些其實根本不可能出現的組合反而會造成雜訊。推測是因為這樣才讓分數變低的。而L1跟L2 penalty的部分，基本上都是隨著數字變大，表現也呈現變差的趨勢。這其實跟使用他們的目的很一致，為了避免過度擬合，降低不重要特徵的影響度，數字當然不會太大，所以我們得到在dev set最好的測試成績－0.768是透過下面的參數組合：\n",
    "</p>\n",
    "<table>\n",
    "    <tr>\n",
    "    <th>&emsp;&emsp;</th>\n",
    "    <th>參數值</th>\n",
    "    <tr>\n",
    "    <tr>\n",
    "    <td><code>all_possible_transitions</code></td>\n",
    "    <td>False</td>\n",
    "    </tr>\n",
    "    <tr>\n",
    "    <td><code>c1</code></td>\n",
    "    <td>0.04</td>\n",
    "    </tr>\n",
    "    <tr>\n",
    "    <td><code>c2</code></td>\n",
    "    <td>0.08</td>\n",
    "    </tr>\n",
    "    <tr>\n",
    "    <td><code>max_iterations</code></td>\n",
    "    <td>150</td>\n",
    "    </tr>\n",
    "</table>"
   ]
  },
  {
   "cell_type": "code",
   "execution_count": 130,
   "metadata": {},
   "outputs": [
    {
     "data": {
      "text/plain": [
       "0.796702079200119"
      ]
     },
     "execution_count": 130,
     "metadata": {},
     "output_type": "execute_result"
    }
   ],
   "source": [
    "crf_final = sklearn_crfsuite.CRF(\n",
    "        algorithm='lbfgs',\n",
    "        c1=0.04,\n",
    "        c2=0.13,\n",
    "        max_iterations=150,\n",
    "        all_possible_transitions=False\n",
    "    )\n",
    "try:\n",
    "    crf_final.fit(feat_train, label_train)\n",
    "except AttributeError:\n",
    "    pass\n",
    "label_pred_final = crf_final.predict(feat_test)\n",
    "metrics.flat_f1_score(label_test, label_pred_final,\n",
    "                      average='weighted', labels=labels)"
   ]
  },
  {
   "attachments": {},
   "cell_type": "markdown",
   "metadata": {},
   "source": [
    "<p style = \"font-size:12pt\">\n",
    "&emsp;&emsp;其實這次調參數獲得的結果都是很細微的變化，基本要看到小數點後面第二位或第三位才能比較。我在想會不會是因為資料數量有限的關係，因為資料量不大所以參數不管怎麼調整都很難有大變化。\n",
    "</p>"
   ]
  }
 ],
 "metadata": {
  "kernelspec": {
   "display_name": "base",
   "language": "python",
   "name": "python3"
  },
  "language_info": {
   "codemirror_mode": {
    "name": "ipython",
    "version": 3
   },
   "file_extension": ".py",
   "mimetype": "text/x-python",
   "name": "python",
   "nbconvert_exporter": "python",
   "pygments_lexer": "ipython3",
   "version": "3.9.13"
  },
  "orig_nbformat": 4
 },
 "nbformat": 4,
 "nbformat_minor": 2
}
