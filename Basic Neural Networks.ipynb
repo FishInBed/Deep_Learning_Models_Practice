{
 "cells": [
  {
   "attachments": {},
   "cell_type": "markdown",
   "metadata": {},
   "source": [
    "**余盈蓓；語碩二；110555009**\\\n",
    "**111-2 Computational Linguistics**\n",
    "<p align=\"center\", style = \"font-size:18pt\">\n",
    "<b>5th Assignment<br>\n",
    "Basic Neural Network</b>\n",
    "</p>"
   ]
  },
  {
   "attachments": {},
   "cell_type": "markdown",
   "metadata": {},
   "source": [
    "<p style = \"font-size:16pt\", align=\"center\">\n",
    "<b>Sample Word-word Sequence Model</b>\n",
    "</p>\n",
    "\n",
    "<p style = \"font-size:12pt\">\n",
    "✨製造資料\n",
    "</p>"
   ]
  },
  {
   "cell_type": "code",
   "execution_count": 1,
   "metadata": {},
   "outputs": [],
   "source": [
    "sample = \"\"\" Jack and Jill went up the hill\\n\n",
    "        To fetch a pail of water\\n\n",
    "        Jack fell down and broke his crown\\n\n",
    "        And Jill came tumbling after\\n \"\"\""
   ]
  },
  {
   "attachments": {},
   "cell_type": "markdown",
   "metadata": {},
   "source": [
    "<p style = \"font-size:12pt\">\n",
    "✨斷詞+編碼\n",
    "</p>"
   ]
  },
  {
   "cell_type": "code",
   "execution_count": 1,
   "metadata": {},
   "outputs": [],
   "source": [
    "from keras.preprocessing.text import Tokenizer\n",
    "\n",
    "sample_tokenizer = Tokenizer()\n",
    "sample_tokenizer.fit_on_texts([sample])\n",
    "sample_encoded = sample_tokenizer.texts_to_sequences([sample])[0]"
   ]
  },
  {
   "cell_type": "code",
   "execution_count": 3,
   "metadata": {},
   "outputs": [
    {
     "name": "stdout",
     "output_type": "stream",
     "text": [
      "Vocabulary Size: 22\n"
     ]
    }
   ],
   "source": [
    "sample_vocab_size = len(sample_tokenizer.word_index) + 1\n",
    "print('Vocabulary Size: %d' % sample_vocab_size)"
   ]
  },
  {
   "attachments": {},
   "cell_type": "markdown",
   "metadata": {},
   "source": [
    "<p style = \"font-size:12pt\">\n",
    "✨製作bigram\n",
    "</p>"
   ]
  },
  {
   "cell_type": "code",
   "execution_count": 4,
   "metadata": {},
   "outputs": [
    {
     "name": "stdout",
     "output_type": "stream",
     "text": [
      "Total Sequences: 24\n",
      "[[2, 1], [1, 3], [3, 4], [4, 5], [5, 6], [6, 7], [7, 8], [8, 9], [9, 10], [10, 11], [11, 12], [12, 13], [13, 2], [2, 14], [14, 15], [15, 1], [1, 16], [16, 17], [17, 18], [18, 1], [1, 3], [3, 19], [19, 20], [20, 21]]\n"
     ]
    }
   ],
   "source": [
    "sample_sequences = list()\n",
    "for i in range(1, len(sample_encoded)): #因為window size是2，所以要從第二個開始\n",
    "    sequence = sample_encoded[i-1:i+1]\n",
    "    sample_sequences.append(sequence)\n",
    "print('Total Sequences: %d' % len(sample_sequences))\n",
    "print(sample_sequences)"
   ]
  },
  {
   "attachments": {},
   "cell_type": "markdown",
   "metadata": {},
   "source": [
    "<p style = \"font-size:12pt\">\n",
    "✨轉換成array\n",
    "</p>"
   ]
  },
  {
   "cell_type": "code",
   "execution_count": 5,
   "metadata": {},
   "outputs": [
    {
     "data": {
      "text/plain": [
       "(array([ 2,  1,  3,  4,  5,  6,  7,  8,  9, 10, 11, 12, 13,  2, 14, 15,  1,\n",
       "        16, 17, 18,  1,  3, 19, 20]),\n",
       " array([ 1,  3,  4,  5,  6,  7,  8,  9, 10, 11, 12, 13,  2, 14, 15,  1, 16,\n",
       "        17, 18,  1,  3, 19, 20, 21]))"
      ]
     },
     "execution_count": 5,
     "metadata": {},
     "output_type": "execute_result"
    }
   ],
   "source": [
    "import numpy as np\n",
    "\n",
    "sample_sequences = np.array(sample_sequences)\n",
    "sample_context_word, sample_next_word = sample_sequences[:,0],sample_sequences[:,1]\n",
    "sample_context_word, sample_next_word"
   ]
  },
  {
   "cell_type": "code",
   "execution_count": 6,
   "metadata": {},
   "outputs": [],
   "source": [
    "from keras.utils import to_categorical\n",
    "\n",
    "sample_next_word = to_categorical(sample_next_word, num_classes=sample_vocab_size)"
   ]
  },
  {
   "attachments": {},
   "cell_type": "markdown",
   "metadata": {},
   "source": [
    "<p style = \"font-size:12pt\">\n",
    "✨定義評估方式<br>\n",
    "&emsp;&ensp;因為<code>keras</code>沒有提供recall, precision, 跟f-score計算的函式，所以要先定義新的功能。\n",
    "</p>"
   ]
  },
  {
   "cell_type": "code",
   "execution_count": 7,
   "metadata": {},
   "outputs": [],
   "source": [
    "from keras import backend as K\n",
    "\n",
    "def recall_m(y_true, y_pred):\n",
    "    true_positives = K.sum(K.round(K.clip(y_true * y_pred, 0, 1)))\n",
    "    possible_positives = K.sum(K.round(K.clip(y_true, 0, 1)))\n",
    "    recall = true_positives / (possible_positives + K.epsilon())\n",
    "    return recall\n",
    "\n",
    "def precision_m(y_true, y_pred):\n",
    "    true_positives = K.sum(K.round(K.clip(y_true * y_pred, 0, 1)))\n",
    "    predicted_positives = K.sum(K.round(K.clip(y_pred, 0, 1)))\n",
    "    precision = true_positives / (predicted_positives + K.epsilon())\n",
    "    return precision\n",
    "\n",
    "def f1_m(y_true, y_pred):\n",
    "    precision = precision_m(y_true, y_pred)\n",
    "    recall = recall_m(y_true, y_pred)\n",
    "    return 2*((precision*recall)/(precision+recall+K.epsilon()))\n"
   ]
  },
  {
   "attachments": {},
   "cell_type": "markdown",
   "metadata": {},
   "source": [
    "<p style = \"font-size:12pt\">\n",
    "✨初始化模型\n",
    "</p>"
   ]
  },
  {
   "cell_type": "code",
   "execution_count": 8,
   "metadata": {},
   "outputs": [
    {
     "name": "stdout",
     "output_type": "stream",
     "text": [
      "Model: \"sequential\"\n",
      "_________________________________________________________________\n",
      " Layer (type)                Output Shape              Param #   \n",
      "=================================================================\n",
      " embedding (Embedding)       (None, 1, 10)             220       \n",
      "                                                                 \n",
      " reshape (Reshape)           (None, 10)                0         \n",
      "                                                                 \n",
      " dense (Dense)               (None, 50)                550       \n",
      "                                                                 \n",
      " dense_1 (Dense)             (None, 22)                1122      \n",
      "                                                                 \n",
      "=================================================================\n",
      "Total params: 1,892\n",
      "Trainable params: 1,892\n",
      "Non-trainable params: 0\n",
      "_________________________________________________________________\n",
      "None\n"
     ]
    }
   ],
   "source": [
    "from keras.models import Sequential\n",
    "from keras.layers import Dense\n",
    "from keras.layers import Embedding\n",
    "from keras.layers import Reshape\n",
    "\n",
    "sample_model = Sequential()  \n",
    "sample_model.add(Embedding(sample_vocab_size, 10, input_length=1)) \n",
    "sample_model.add(Reshape((10,)))\n",
    "sample_model.add(Dense(units=50, activation='relu')) \n",
    "sample_model.add(Dense(sample_vocab_size, activation='softmax')) \n",
    "\n",
    "sample_model.compile(loss='categorical_crossentropy', optimizer='adam', metrics=[\"acc\", f1_m])\n",
    "\n",
    "print(sample_model.summary())"
   ]
  },
  {
   "attachments": {},
   "cell_type": "markdown",
   "metadata": {},
   "source": [
    "<p style = \"font-size:12pt\">\n",
    "✨模型訓練\n",
    "</p>"
   ]
  },
  {
   "cell_type": "code",
   "execution_count": 9,
   "metadata": {},
   "outputs": [
    {
     "name": "stdout",
     "output_type": "stream",
     "text": [
      "Epoch 1/50\n",
      "1/1 - 0s - loss: 3.0879 - acc: 0.1250 - f1_m: 0.0000e+00 - 485ms/epoch - 485ms/step\n",
      "Epoch 2/50\n",
      "1/1 - 0s - loss: 3.0852 - acc: 0.1667 - f1_m: 0.0000e+00 - 1ms/epoch - 1ms/step\n",
      "Epoch 3/50\n",
      "1/1 - 0s - loss: 3.0826 - acc: 0.1667 - f1_m: 0.0000e+00 - 1ms/epoch - 1ms/step\n",
      "Epoch 4/50\n",
      "1/1 - 0s - loss: 3.0800 - acc: 0.2500 - f1_m: 0.0000e+00 - 1ms/epoch - 1ms/step\n",
      "Epoch 5/50\n",
      "1/1 - 0s - loss: 3.0775 - acc: 0.2500 - f1_m: 0.0000e+00 - 2ms/epoch - 2ms/step\n",
      "Epoch 6/50\n",
      "1/1 - 0s - loss: 3.0750 - acc: 0.2083 - f1_m: 0.0000e+00 - 2ms/epoch - 2ms/step\n",
      "Epoch 7/50\n",
      "1/1 - 0s - loss: 3.0726 - acc: 0.2500 - f1_m: 0.0000e+00 - 2ms/epoch - 2ms/step\n",
      "Epoch 8/50\n",
      "1/1 - 0s - loss: 3.0703 - acc: 0.2083 - f1_m: 0.0000e+00 - 2ms/epoch - 2ms/step\n",
      "Epoch 9/50\n",
      "1/1 - 0s - loss: 3.0679 - acc: 0.2500 - f1_m: 0.0000e+00 - 2ms/epoch - 2ms/step\n",
      "Epoch 10/50\n",
      "1/1 - 0s - loss: 3.0655 - acc: 0.2500 - f1_m: 0.0000e+00 - 2ms/epoch - 2ms/step\n",
      "Epoch 11/50\n",
      "1/1 - 0s - loss: 3.0632 - acc: 0.2500 - f1_m: 0.0000e+00 - 2ms/epoch - 2ms/step\n",
      "Epoch 12/50\n",
      "1/1 - 0s - loss: 3.0609 - acc: 0.2500 - f1_m: 0.0000e+00 - 2ms/epoch - 2ms/step\n",
      "Epoch 13/50\n",
      "1/1 - 0s - loss: 3.0585 - acc: 0.2500 - f1_m: 0.0000e+00 - 2ms/epoch - 2ms/step\n",
      "Epoch 14/50\n",
      "1/1 - 0s - loss: 3.0561 - acc: 0.2917 - f1_m: 0.0000e+00 - 3ms/epoch - 3ms/step\n",
      "Epoch 15/50\n",
      "1/1 - 0s - loss: 3.0537 - acc: 0.2917 - f1_m: 0.0000e+00 - 3ms/epoch - 3ms/step\n",
      "Epoch 16/50\n",
      "1/1 - 0s - loss: 3.0513 - acc: 0.2917 - f1_m: 0.0000e+00 - 3ms/epoch - 3ms/step\n",
      "Epoch 17/50\n",
      "1/1 - 0s - loss: 3.0488 - acc: 0.2917 - f1_m: 0.0000e+00 - 2ms/epoch - 2ms/step\n",
      "Epoch 18/50\n",
      "1/1 - 0s - loss: 3.0462 - acc: 0.2917 - f1_m: 0.0000e+00 - 2ms/epoch - 2ms/step\n",
      "Epoch 19/50\n",
      "1/1 - 0s - loss: 3.0436 - acc: 0.2917 - f1_m: 0.0000e+00 - 2ms/epoch - 2ms/step\n",
      "Epoch 20/50\n",
      "1/1 - 0s - loss: 3.0409 - acc: 0.2917 - f1_m: 0.0000e+00 - 4ms/epoch - 4ms/step\n",
      "Epoch 21/50\n",
      "1/1 - 0s - loss: 3.0381 - acc: 0.2917 - f1_m: 0.0000e+00 - 3ms/epoch - 3ms/step\n",
      "Epoch 22/50\n",
      "1/1 - 0s - loss: 3.0352 - acc: 0.2917 - f1_m: 0.0000e+00 - 3ms/epoch - 3ms/step\n",
      "Epoch 23/50\n",
      "1/1 - 0s - loss: 3.0322 - acc: 0.2917 - f1_m: 0.0000e+00 - 6ms/epoch - 6ms/step\n",
      "Epoch 24/50\n",
      "1/1 - 0s - loss: 3.0292 - acc: 0.2917 - f1_m: 0.0000e+00 - 5ms/epoch - 5ms/step\n",
      "Epoch 25/50\n",
      "1/1 - 0s - loss: 3.0262 - acc: 0.2917 - f1_m: 0.0000e+00 - 3ms/epoch - 3ms/step\n",
      "Epoch 26/50\n",
      "1/1 - 0s - loss: 3.0230 - acc: 0.2917 - f1_m: 0.0000e+00 - 3ms/epoch - 3ms/step\n",
      "Epoch 27/50\n",
      "1/1 - 0s - loss: 3.0197 - acc: 0.2917 - f1_m: 0.0000e+00 - 2ms/epoch - 2ms/step\n",
      "Epoch 28/50\n",
      "1/1 - 0s - loss: 3.0163 - acc: 0.2917 - f1_m: 0.0000e+00 - 2ms/epoch - 2ms/step\n",
      "Epoch 29/50\n",
      "1/1 - 0s - loss: 3.0128 - acc: 0.2917 - f1_m: 0.0000e+00 - 4ms/epoch - 4ms/step\n",
      "Epoch 30/50\n",
      "1/1 - 0s - loss: 3.0093 - acc: 0.2917 - f1_m: 0.0000e+00 - 3ms/epoch - 3ms/step\n",
      "Epoch 31/50\n",
      "1/1 - 0s - loss: 3.0056 - acc: 0.2917 - f1_m: 0.0000e+00 - 2ms/epoch - 2ms/step\n",
      "Epoch 32/50\n",
      "1/1 - 0s - loss: 3.0018 - acc: 0.2917 - f1_m: 0.0000e+00 - 2ms/epoch - 2ms/step\n",
      "Epoch 33/50\n",
      "1/1 - 0s - loss: 2.9979 - acc: 0.2917 - f1_m: 0.0000e+00 - 2ms/epoch - 2ms/step\n",
      "Epoch 34/50\n",
      "1/1 - 0s - loss: 2.9939 - acc: 0.2917 - f1_m: 0.0000e+00 - 3ms/epoch - 3ms/step\n",
      "Epoch 35/50\n",
      "1/1 - 0s - loss: 2.9898 - acc: 0.2917 - f1_m: 0.0000e+00 - 2ms/epoch - 2ms/step\n",
      "Epoch 36/50\n",
      "1/1 - 0s - loss: 2.9856 - acc: 0.2917 - f1_m: 0.0000e+00 - 2ms/epoch - 2ms/step\n",
      "Epoch 37/50\n",
      "1/1 - 0s - loss: 2.9812 - acc: 0.2917 - f1_m: 0.0000e+00 - 2ms/epoch - 2ms/step\n",
      "Epoch 38/50\n",
      "1/1 - 0s - loss: 2.9767 - acc: 0.2917 - f1_m: 0.0000e+00 - 1ms/epoch - 1ms/step\n",
      "Epoch 39/50\n",
      "1/1 - 0s - loss: 2.9721 - acc: 0.2917 - f1_m: 0.0000e+00 - 7ms/epoch - 7ms/step\n",
      "Epoch 40/50\n",
      "1/1 - 0s - loss: 2.9673 - acc: 0.2917 - f1_m: 0.0000e+00 - 2ms/epoch - 2ms/step\n",
      "Epoch 41/50\n",
      "1/1 - 0s - loss: 2.9624 - acc: 0.2917 - f1_m: 0.0000e+00 - 2ms/epoch - 2ms/step\n",
      "Epoch 42/50\n",
      "1/1 - 0s - loss: 2.9574 - acc: 0.2917 - f1_m: 0.0000e+00 - 2ms/epoch - 2ms/step\n",
      "Epoch 43/50\n",
      "1/1 - 0s - loss: 2.9523 - acc: 0.2917 - f1_m: 0.0000e+00 - 2ms/epoch - 2ms/step\n",
      "Epoch 44/50\n",
      "1/1 - 0s - loss: 2.9470 - acc: 0.2917 - f1_m: 0.0000e+00 - 2ms/epoch - 2ms/step\n",
      "Epoch 45/50\n",
      "1/1 - 0s - loss: 2.9415 - acc: 0.2917 - f1_m: 0.0000e+00 - 3ms/epoch - 3ms/step\n",
      "Epoch 46/50\n",
      "1/1 - 0s - loss: 2.9360 - acc: 0.2917 - f1_m: 0.0000e+00 - 2ms/epoch - 2ms/step\n",
      "Epoch 47/50\n",
      "1/1 - 0s - loss: 2.9302 - acc: 0.2917 - f1_m: 0.0000e+00 - 1ms/epoch - 1ms/step\n",
      "Epoch 48/50\n",
      "1/1 - 0s - loss: 2.9244 - acc: 0.2917 - f1_m: 0.0000e+00 - 2ms/epoch - 2ms/step\n",
      "Epoch 49/50\n",
      "1/1 - 0s - loss: 2.9183 - acc: 0.2917 - f1_m: 0.0000e+00 - 2ms/epoch - 2ms/step\n",
      "Epoch 50/50\n",
      "1/1 - 0s - loss: 2.9122 - acc: 0.2917 - f1_m: 0.0000e+00 - 3ms/epoch - 3ms/step\n"
     ]
    },
    {
     "data": {
      "text/plain": [
       "<keras.callbacks.History at 0x2301453bee0>"
      ]
     },
     "execution_count": 9,
     "metadata": {},
     "output_type": "execute_result"
    }
   ],
   "source": [
    "sample_model.fit(sample_context_word, sample_next_word, epochs=50, verbose=2)"
   ]
  },
  {
   "attachments": {},
   "cell_type": "markdown",
   "metadata": {},
   "source": [
    "<p style = \"font-size:16pt\", align=\"center\">\n",
    "<b>Chinese Word-word Sequence Model</b>\n",
    "</p>\n",
    "\n",
    "<p style = \"font-size:12pt\", align=\"center\">\n",
    "這週一樣用魯迅的小說來訓練模型。但考量到要訓練的是透過context預測下一個詞的模型，為了減少雜訊，會只用《吶喊》來訓練。\n",
    "</p>\n",
    "\n",
    "<p style = \"font-size:14pt\">\n",
    "<b>Step 1. 資料前處理</b>\n",
    "</p>\n",
    "\n",
    "<p style = \"font-size:12pt\">\n",
    "✨資料讀入\n",
    "<p>"
   ]
  },
  {
   "cell_type": "code",
   "execution_count": 4,
   "metadata": {},
   "outputs": [],
   "source": [
    "data = open(\"吶喊.txt\").read()"
   ]
  },
  {
   "attachments": {},
   "cell_type": "markdown",
   "metadata": {},
   "source": [
    "<p style = \"font-size:12pt\">\n",
    "✨清除區分章節的標籤\n",
    "<p>"
   ]
  },
  {
   "cell_type": "code",
   "execution_count": 5,
   "metadata": {},
   "outputs": [],
   "source": [
    "import re\n",
    "clean_data = re.sub(\"-end-\", \"\", data)"
   ]
  },
  {
   "attachments": {},
   "cell_type": "markdown",
   "metadata": {},
   "source": [
    "<p style = \"font-size:12pt\">\n",
    "✨斷詞<br>\n",
    "&emsp;&ensp;因為《吶喊》裡面有很多地方使用的是簡體字，且文風會比較接近北京華語的使用，所以這邊引進<code>jieba</code>來進行斷詞。\n",
    "<p>"
   ]
  },
  {
   "cell_type": "code",
   "execution_count": 6,
   "metadata": {},
   "outputs": [
    {
     "name": "stderr",
     "output_type": "stream",
     "text": [
      "Building prefix dict from the default dictionary ...\n",
      "Loading model from cache C:\\Users\\c5227\\AppData\\Local\\Temp\\jieba.cache\n",
      "Loading model cost 0.387 seconds.\n",
      "Prefix dict has been built successfully.\n"
     ]
    }
   ],
   "source": [
    "import jieba\n",
    "\n",
    "tokens = jieba.lcut(clean_data)"
   ]
  },
  {
   "attachments": {},
   "cell_type": "markdown",
   "metadata": {},
   "source": [
    "<p style = \"font-size:12pt\">\n",
    "✨資料清理<br>\n",
    "&emsp;&ensp;因為下面的word-word sequence model會用單一個context word來預測一個next word，如果存在標點符號的話可能會使雜訊過多，導致預測結果被標點符號占據，所以下面先把標點符號跟不必要的東西一起清掉。（其實是第一次訓練的時候發現超多都直接預測標點符號，模型整個爛掉才決定回來拿掉的。）\n",
    "<p>"
   ]
  },
  {
   "cell_type": "code",
   "execution_count": 7,
   "metadata": {},
   "outputs": [],
   "source": [
    "clean_tokens = []\n",
    "for token in tokens:\n",
    "    word = re.sub(\"，|。|？|「|」|＂|“|”|；|：|、|…|—|\\n+|[A-z]+|\\s+\", \" \", token)\n",
    "    if len(word) != 0 and \" \"not in word:\n",
    "        clean_tokens.append(word)"
   ]
  },
  {
   "cell_type": "code",
   "execution_count": 8,
   "metadata": {},
   "outputs": [
    {
     "data": {
      "text/plain": [
       "'我 從 鄉 下 跑 到 京城 裏 一轉眼 已經 六年 了 其間 耳聞 目睹 的 所謂 國家 大事 算'"
      ]
     },
     "execution_count": 8,
     "metadata": {},
     "output_type": "execute_result"
    }
   ],
   "source": [
    "tokenized_data = \" \".join(clean_tokens)\n",
    "tokenized_data[0:50]"
   ]
  },
  {
   "attachments": {},
   "cell_type": "markdown",
   "metadata": {},
   "source": [
    "<p style = \"font-size:14pt\">\n",
    "<b>Step 2. 向量轉換</b>\n",
    "</p>\n",
    "\n",
    "<p style = \"font-size:12pt\">\n",
    "✨編碼\n",
    "<p>"
   ]
  },
  {
   "cell_type": "code",
   "execution_count": 9,
   "metadata": {},
   "outputs": [
    {
     "name": "stdout",
     "output_type": "stream",
     "text": [
      "['的', '了', '他', '是', '我', '也', '在', '說', '裏', '有']\n"
     ]
    }
   ],
   "source": [
    "tokenizer = Tokenizer()\n",
    "tokenizer.fit_on_texts([tokenized_data])\n",
    "encoded = tokenizer.texts_to_sequences([tokenized_data])[0]  # list within list\n",
    "\n",
    "print(list(tokenizer.word_index)[0:10])"
   ]
  },
  {
   "attachments": {},
   "cell_type": "markdown",
   "metadata": {},
   "source": [
    "<p style = \"font-size:12pt\">\n",
    "✨計算vocab size<br>\n",
    "&emsp;&ensp;這裡要murmur一下。本來以為是因為padding之後會多一個pad的符號才需要+1的，結果發現完全不是這樣。因為上面編碼是從1開始，但等一下轉換成類別型資料的時候，python會從0開始到原本的vocab_size-1，等於會轉換不到最後一個編碼的字，所以才需要+1。為什麼我會知道呢？因為第一次跑的時候想說沒有padding就不用+1，結果在<code>to_categorical</code>的地方就出現error了呢=)\n",
    "<p>"
   ]
  },
  {
   "cell_type": "code",
   "execution_count": 10,
   "metadata": {},
   "outputs": [
    {
     "name": "stdout",
     "output_type": "stream",
     "text": [
      "vocabulary size: 8759\n"
     ]
    }
   ],
   "source": [
    "vocab_size = len(tokenizer.word_index)+1 \n",
    "\n",
    "print(\"vocabulary size: \" + str(vocab_size))"
   ]
  },
  {
   "attachments": {},
   "cell_type": "markdown",
   "metadata": {},
   "source": [
    "<p style = \"font-size:12pt\">\n",
    "✨製作bigram<br>\n",
    "<p>"
   ]
  },
  {
   "cell_type": "code",
   "execution_count": 11,
   "metadata": {},
   "outputs": [
    {
     "name": "stdout",
     "output_type": "stream",
     "text": [
      "[(5, 49), (49, 484), (484, 71), (71, 174), (174, 23), (23, 3172), (3172, 9), (9, 3173), (3173, 72), (72, 1864)]\n"
     ]
    }
   ],
   "source": [
    "from nltk.util import bigrams\n",
    "\n",
    "sequences = list(bigrams(encoded))\n",
    "print(sequences[0:10])"
   ]
  },
  {
   "cell_type": "code",
   "execution_count": 12,
   "metadata": {},
   "outputs": [
    {
     "name": "stdout",
     "output_type": "stream",
     "text": [
      "[   5   49  484   71  174   23 3172    9 3173   72]\n",
      "[  49  484   71  174   23 3172    9 3173   72 1864]\n"
     ]
    }
   ],
   "source": [
    "sequences = np.array(sequences)\n",
    "context_word, next_word = sequences[:,0],sequences[:,1]\n",
    "\n",
    "print(context_word[0:10])\n",
    "print(next_word[0:10])"
   ]
  },
  {
   "cell_type": "code",
   "execution_count": 13,
   "metadata": {},
   "outputs": [],
   "source": [
    "next_word_encoded = to_categorical(next_word, num_classes = vocab_size)"
   ]
  },
  {
   "attachments": {},
   "cell_type": "markdown",
   "metadata": {},
   "source": [
    "<p style = \"font-size:14pt\">\n",
    "<b>Step 3. 模型訓練</b>\n",
    "</p>\n",
    "\n",
    "<p style = \"font-size:12pt\">\n",
    "✨區分訓練集跟測試集\n",
    "</p>"
   ]
  },
  {
   "cell_type": "code",
   "execution_count": 14,
   "metadata": {},
   "outputs": [],
   "source": [
    "from sklearn.utils import shuffle\n",
    "from sklearn.model_selection import train_test_split\n",
    "\n",
    "shuffled_context_word, shuffled_next_word = shuffle(context_word, next_word_encoded, random_state = 168)\n",
    "context_word_train, context_word_test, next_word_train, next_word_test = train_test_split(shuffled_context_word, shuffled_next_word, test_size = 0.2, random_state = 168)"
   ]
  },
  {
   "attachments": {},
   "cell_type": "markdown",
   "metadata": {},
   "source": [
    "<p style = \"font-size:12pt\">\n",
    "✨初始化模型<br>\n",
    "</p>"
   ]
  },
  {
   "cell_type": "code",
   "execution_count": 93,
   "metadata": {},
   "outputs": [
    {
     "name": "stdout",
     "output_type": "stream",
     "text": [
      "Model: \"sequential_8\"\n",
      "_________________________________________________________________\n",
      " Layer (type)                Output Shape              Param #   \n",
      "=================================================================\n",
      " embedding_8 (Embedding)     (None, 1, 10)             87590     \n",
      "                                                                 \n",
      " reshape_8 (Reshape)         (None, 10)                0         \n",
      "                                                                 \n",
      " dense_16 (Dense)            (None, 50)                550       \n",
      "                                                                 \n",
      " dense_17 (Dense)            (None, 8759)              446709    \n",
      "                                                                 \n",
      "=================================================================\n",
      "Total params: 534,849\n",
      "Trainable params: 534,849\n",
      "Non-trainable params: 0\n",
      "_________________________________________________________________\n",
      "None\n"
     ]
    }
   ],
   "source": [
    "word_model = Sequential()  # initialize a sequence model\n",
    "word_model.add(Embedding(vocab_size, 10, input_length=1))\n",
    "word_model.add(Reshape((10,)))\n",
    "word_model.add(Dense(units=50, activation='relu')) \n",
    "word_model.add(Dense(vocab_size, activation='softmax')) \n",
    "\n",
    "word_model.compile(loss='categorical_crossentropy', optimizer='adam', metrics=['accuracy', f1_m])\n",
    "\n",
    "print(word_model.summary())"
   ]
  },
  {
   "attachments": {},
   "cell_type": "markdown",
   "metadata": {},
   "source": [
    "<p style = \"font-size:12pt\">\n",
    "✨模型訓練\n",
    "</p>"
   ]
  },
  {
   "cell_type": "code",
   "execution_count": 94,
   "metadata": {},
   "outputs": [
    {
     "name": "stdout",
     "output_type": "stream",
     "text": [
      "Epoch 1/200\n",
      "974/974 - 6s - loss: 7.6662 - accuracy: 0.0629 - f1_m: 0.0000e+00 - 6s/epoch - 7ms/step\n",
      "Epoch 2/200\n",
      "974/974 - 6s - loss: 7.0858 - accuracy: 0.0632 - f1_m: 0.0000e+00 - 6s/epoch - 6ms/step\n",
      "Epoch 3/200\n",
      "974/974 - 11s - loss: 6.9381 - accuracy: 0.0661 - f1_m: 0.0021 - 11s/epoch - 11ms/step\n",
      "Epoch 4/200\n",
      "974/974 - 12s - loss: 6.7988 - accuracy: 0.0717 - f1_m: 0.0097 - 12s/epoch - 12ms/step\n",
      "Epoch 5/200\n",
      "974/974 - 11s - loss: 6.6423 - accuracy: 0.0787 - f1_m: 0.0178 - 11s/epoch - 12ms/step\n",
      "Epoch 6/200\n",
      "974/974 - 11s - loss: 6.4607 - accuracy: 0.0994 - f1_m: 0.0449 - 11s/epoch - 12ms/step\n",
      "Epoch 7/200\n",
      "974/974 - 11s - loss: 6.2590 - accuracy: 0.1229 - f1_m: 0.0741 - 11s/epoch - 12ms/step\n",
      "Epoch 8/200\n",
      "974/974 - 12s - loss: 6.0557 - accuracy: 0.1412 - f1_m: 0.0897 - 12s/epoch - 12ms/step\n",
      "Epoch 9/200\n",
      "974/974 - 12s - loss: 5.8577 - accuracy: 0.1540 - f1_m: 0.0991 - 12s/epoch - 12ms/step\n",
      "Epoch 10/200\n",
      "974/974 - 12s - loss: 5.6644 - accuracy: 0.1676 - f1_m: 0.1181 - 12s/epoch - 12ms/step\n",
      "Epoch 11/200\n",
      "974/974 - 12s - loss: 5.4711 - accuracy: 0.1801 - f1_m: 0.1298 - 12s/epoch - 12ms/step\n",
      "Epoch 12/200\n",
      "974/974 - 12s - loss: 5.2814 - accuracy: 0.1894 - f1_m: 0.1449 - 12s/epoch - 12ms/step\n",
      "Epoch 13/200\n",
      "974/974 - 12s - loss: 5.0948 - accuracy: 0.1995 - f1_m: 0.1605 - 12s/epoch - 12ms/step\n",
      "Epoch 14/200\n",
      "974/974 - 12s - loss: 4.9149 - accuracy: 0.2083 - f1_m: 0.1684 - 12s/epoch - 12ms/step\n",
      "Epoch 15/200\n",
      "974/974 - 12s - loss: 4.7434 - accuracy: 0.2172 - f1_m: 0.1806 - 12s/epoch - 12ms/step\n",
      "Epoch 16/200\n",
      "974/974 - 11s - loss: 4.5843 - accuracy: 0.2266 - f1_m: 0.1911 - 11s/epoch - 12ms/step\n",
      "Epoch 17/200\n",
      "974/974 - 12s - loss: 4.4385 - accuracy: 0.2361 - f1_m: 0.1991 - 12s/epoch - 12ms/step\n",
      "Epoch 18/200\n",
      "974/974 - 12s - loss: 4.3064 - accuracy: 0.2438 - f1_m: 0.2066 - 12s/epoch - 12ms/step\n",
      "Epoch 19/200\n",
      "974/974 - 12s - loss: 4.1898 - accuracy: 0.2506 - f1_m: 0.2152 - 12s/epoch - 12ms/step\n",
      "Epoch 20/200\n",
      "974/974 - 12s - loss: 4.0870 - accuracy: 0.2586 - f1_m: 0.2269 - 12s/epoch - 12ms/step\n",
      "Epoch 21/200\n",
      "974/974 - 12s - loss: 3.9972 - accuracy: 0.2664 - f1_m: 0.2347 - 12s/epoch - 12ms/step\n",
      "Epoch 22/200\n",
      "974/974 - 12s - loss: 3.9178 - accuracy: 0.2732 - f1_m: 0.2446 - 12s/epoch - 12ms/step\n",
      "Epoch 23/200\n",
      "974/974 - 12s - loss: 3.8509 - accuracy: 0.2798 - f1_m: 0.2493 - 12s/epoch - 12ms/step\n",
      "Epoch 24/200\n",
      "974/974 - 12s - loss: 3.7900 - accuracy: 0.2857 - f1_m: 0.2583 - 12s/epoch - 12ms/step\n",
      "Epoch 25/200\n",
      "974/974 - 12s - loss: 3.7382 - accuracy: 0.2893 - f1_m: 0.2662 - 12s/epoch - 12ms/step\n",
      "Epoch 26/200\n",
      "974/974 - 12s - loss: 3.6938 - accuracy: 0.2932 - f1_m: 0.2714 - 12s/epoch - 12ms/step\n",
      "Epoch 27/200\n",
      "974/974 - 11s - loss: 3.6532 - accuracy: 0.2962 - f1_m: 0.2792 - 11s/epoch - 12ms/step\n",
      "Epoch 28/200\n",
      "974/974 - 12s - loss: 3.6175 - accuracy: 0.2976 - f1_m: 0.2837 - 12s/epoch - 12ms/step\n",
      "Epoch 29/200\n",
      "974/974 - 12s - loss: 3.5877 - accuracy: 0.2978 - f1_m: 0.2910 - 12s/epoch - 13ms/step\n",
      "Epoch 30/200\n",
      "974/974 - 12s - loss: 3.5588 - accuracy: 0.2992 - f1_m: 0.2961 - 12s/epoch - 12ms/step\n",
      "Epoch 31/200\n",
      "974/974 - 12s - loss: 3.5348 - accuracy: 0.3021 - f1_m: 0.3019 - 12s/epoch - 12ms/step\n",
      "Epoch 32/200\n",
      "974/974 - 12s - loss: 3.5113 - accuracy: 0.3026 - f1_m: 0.3051 - 12s/epoch - 12ms/step\n",
      "Epoch 33/200\n",
      "974/974 - 12s - loss: 3.4908 - accuracy: 0.3022 - f1_m: 0.3122 - 12s/epoch - 12ms/step\n",
      "Epoch 34/200\n",
      "974/974 - 12s - loss: 3.4730 - accuracy: 0.3010 - f1_m: 0.3155 - 12s/epoch - 12ms/step\n",
      "Epoch 35/200\n",
      "974/974 - 12s - loss: 3.4554 - accuracy: 0.3033 - f1_m: 0.3186 - 12s/epoch - 12ms/step\n",
      "Epoch 36/200\n",
      "974/974 - 12s - loss: 3.4394 - accuracy: 0.3003 - f1_m: 0.3214 - 12s/epoch - 12ms/step\n",
      "Epoch 37/200\n",
      "974/974 - 12s - loss: 3.4250 - accuracy: 0.3020 - f1_m: 0.3224 - 12s/epoch - 12ms/step\n",
      "Epoch 38/200\n",
      "974/974 - 12s - loss: 3.4122 - accuracy: 0.3012 - f1_m: 0.3255 - 12s/epoch - 12ms/step\n",
      "Epoch 39/200\n",
      "974/974 - 12s - loss: 3.3988 - accuracy: 0.3025 - f1_m: 0.3278 - 12s/epoch - 12ms/step\n",
      "Epoch 40/200\n",
      "974/974 - 12s - loss: 3.3883 - accuracy: 0.3014 - f1_m: 0.3274 - 12s/epoch - 12ms/step\n",
      "Epoch 41/200\n",
      "974/974 - 12s - loss: 3.3773 - accuracy: 0.3034 - f1_m: 0.3304 - 12s/epoch - 12ms/step\n",
      "Epoch 42/200\n",
      "974/974 - 12s - loss: 3.3654 - accuracy: 0.3021 - f1_m: 0.3310 - 12s/epoch - 12ms/step\n",
      "Epoch 43/200\n",
      "974/974 - 12s - loss: 3.3558 - accuracy: 0.3016 - f1_m: 0.3305 - 12s/epoch - 12ms/step\n",
      "Epoch 44/200\n",
      "974/974 - 12s - loss: 3.3476 - accuracy: 0.3007 - f1_m: 0.3298 - 12s/epoch - 12ms/step\n",
      "Epoch 45/200\n",
      "974/974 - 12s - loss: 3.3382 - accuracy: 0.3028 - f1_m: 0.3309 - 12s/epoch - 12ms/step\n",
      "Epoch 46/200\n",
      "974/974 - 12s - loss: 3.3307 - accuracy: 0.3033 - f1_m: 0.3322 - 12s/epoch - 12ms/step\n",
      "Epoch 47/200\n",
      "974/974 - 12s - loss: 3.3219 - accuracy: 0.3004 - f1_m: 0.3310 - 12s/epoch - 12ms/step\n",
      "Epoch 48/200\n",
      "974/974 - 12s - loss: 3.3152 - accuracy: 0.3010 - f1_m: 0.3304 - 12s/epoch - 12ms/step\n",
      "Epoch 49/200\n",
      "974/974 - 12s - loss: 3.3069 - accuracy: 0.3038 - f1_m: 0.3319 - 12s/epoch - 12ms/step\n",
      "Epoch 50/200\n",
      "974/974 - 12s - loss: 3.2997 - accuracy: 0.3028 - f1_m: 0.3316 - 12s/epoch - 12ms/step\n",
      "Epoch 51/200\n",
      "974/974 - 12s - loss: 3.2934 - accuracy: 0.3012 - f1_m: 0.3316 - 12s/epoch - 12ms/step\n",
      "Epoch 52/200\n",
      "974/974 - 12s - loss: 3.2872 - accuracy: 0.3004 - f1_m: 0.3312 - 12s/epoch - 12ms/step\n",
      "Epoch 53/200\n",
      "974/974 - 13s - loss: 3.2810 - accuracy: 0.3017 - f1_m: 0.3319 - 13s/epoch - 13ms/step\n",
      "Epoch 54/200\n",
      "974/974 - 12s - loss: 3.2747 - accuracy: 0.3029 - f1_m: 0.3344 - 12s/epoch - 12ms/step\n",
      "Epoch 55/200\n",
      "974/974 - 13s - loss: 3.2698 - accuracy: 0.3006 - f1_m: 0.3315 - 13s/epoch - 13ms/step\n",
      "Epoch 56/200\n",
      "974/974 - 10s - loss: 3.2644 - accuracy: 0.3017 - f1_m: 0.3328 - 10s/epoch - 10ms/step\n",
      "Epoch 57/200\n",
      "974/974 - 11s - loss: 3.2568 - accuracy: 0.3006 - f1_m: 0.3323 - 11s/epoch - 11ms/step\n",
      "Epoch 58/200\n",
      "974/974 - 11s - loss: 3.2536 - accuracy: 0.2998 - f1_m: 0.3326 - 11s/epoch - 11ms/step\n",
      "Epoch 59/200\n",
      "974/974 - 11s - loss: 3.2477 - accuracy: 0.2991 - f1_m: 0.3328 - 11s/epoch - 11ms/step\n",
      "Epoch 60/200\n",
      "974/974 - 11s - loss: 3.2426 - accuracy: 0.3006 - f1_m: 0.3340 - 11s/epoch - 12ms/step\n",
      "Epoch 61/200\n",
      "974/974 - 12s - loss: 3.2386 - accuracy: 0.3008 - f1_m: 0.3330 - 12s/epoch - 12ms/step\n",
      "Epoch 62/200\n",
      "974/974 - 12s - loss: 3.2333 - accuracy: 0.3003 - f1_m: 0.3327 - 12s/epoch - 12ms/step\n",
      "Epoch 63/200\n",
      "974/974 - 12s - loss: 3.2294 - accuracy: 0.3011 - f1_m: 0.3327 - 12s/epoch - 12ms/step\n",
      "Epoch 64/200\n",
      "974/974 - 11s - loss: 3.2241 - accuracy: 0.3019 - f1_m: 0.3353 - 11s/epoch - 12ms/step\n",
      "Epoch 65/200\n",
      "974/974 - 12s - loss: 3.2206 - accuracy: 0.3022 - f1_m: 0.3343 - 12s/epoch - 12ms/step\n",
      "Epoch 66/200\n",
      "974/974 - 12s - loss: 3.2160 - accuracy: 0.3008 - f1_m: 0.3345 - 12s/epoch - 12ms/step\n",
      "Epoch 67/200\n",
      "974/974 - 12s - loss: 3.2127 - accuracy: 0.3009 - f1_m: 0.3321 - 12s/epoch - 12ms/step\n",
      "Epoch 68/200\n",
      "974/974 - 11s - loss: 3.2079 - accuracy: 0.3011 - f1_m: 0.3338 - 11s/epoch - 11ms/step\n",
      "Epoch 69/200\n",
      "974/974 - 12s - loss: 3.2043 - accuracy: 0.3021 - f1_m: 0.3347 - 12s/epoch - 12ms/step\n",
      "Epoch 70/200\n",
      "974/974 - 12s - loss: 3.2017 - accuracy: 0.3020 - f1_m: 0.3336 - 12s/epoch - 12ms/step\n",
      "Epoch 71/200\n",
      "974/974 - 12s - loss: 3.1976 - accuracy: 0.3018 - f1_m: 0.3348 - 12s/epoch - 12ms/step\n",
      "Epoch 72/200\n",
      "974/974 - 12s - loss: 3.1945 - accuracy: 0.3002 - f1_m: 0.3341 - 12s/epoch - 12ms/step\n",
      "Epoch 73/200\n",
      "974/974 - 11s - loss: 3.1908 - accuracy: 0.3025 - f1_m: 0.3339 - 11s/epoch - 12ms/step\n",
      "Epoch 74/200\n",
      "974/974 - 12s - loss: 3.1868 - accuracy: 0.3018 - f1_m: 0.3330 - 12s/epoch - 12ms/step\n",
      "Epoch 75/200\n",
      "974/974 - 12s - loss: 3.1838 - accuracy: 0.3022 - f1_m: 0.3347 - 12s/epoch - 12ms/step\n",
      "Epoch 76/200\n",
      "974/974 - 11s - loss: 3.1796 - accuracy: 0.3005 - f1_m: 0.3332 - 11s/epoch - 12ms/step\n",
      "Epoch 77/200\n",
      "974/974 - 12s - loss: 3.1778 - accuracy: 0.3023 - f1_m: 0.3362 - 12s/epoch - 12ms/step\n",
      "Epoch 78/200\n",
      "974/974 - 12s - loss: 3.1754 - accuracy: 0.3019 - f1_m: 0.3341 - 12s/epoch - 12ms/step\n",
      "Epoch 79/200\n",
      "974/974 - 11s - loss: 3.1729 - accuracy: 0.2996 - f1_m: 0.3340 - 11s/epoch - 11ms/step\n",
      "Epoch 80/200\n",
      "974/974 - 11s - loss: 3.1695 - accuracy: 0.3025 - f1_m: 0.3351 - 11s/epoch - 12ms/step\n",
      "Epoch 81/200\n",
      "974/974 - 11s - loss: 3.1667 - accuracy: 0.3019 - f1_m: 0.3353 - 11s/epoch - 12ms/step\n",
      "Epoch 82/200\n",
      "974/974 - 12s - loss: 3.1630 - accuracy: 0.3009 - f1_m: 0.3334 - 12s/epoch - 12ms/step\n",
      "Epoch 83/200\n",
      "974/974 - 11s - loss: 3.1606 - accuracy: 0.3018 - f1_m: 0.3356 - 11s/epoch - 11ms/step\n",
      "Epoch 84/200\n",
      "974/974 - 12s - loss: 3.1562 - accuracy: 0.3023 - f1_m: 0.3345 - 12s/epoch - 12ms/step\n",
      "Epoch 85/200\n",
      "974/974 - 12s - loss: 3.1542 - accuracy: 0.3013 - f1_m: 0.3336 - 12s/epoch - 12ms/step\n",
      "Epoch 86/200\n",
      "974/974 - 12s - loss: 3.1533 - accuracy: 0.3013 - f1_m: 0.3341 - 12s/epoch - 12ms/step\n",
      "Epoch 87/200\n",
      "974/974 - 12s - loss: 3.1496 - accuracy: 0.3002 - f1_m: 0.3346 - 12s/epoch - 12ms/step\n",
      "Epoch 88/200\n",
      "974/974 - 12s - loss: 3.1472 - accuracy: 0.3014 - f1_m: 0.3355 - 12s/epoch - 12ms/step\n",
      "Epoch 89/200\n",
      "974/974 - 12s - loss: 3.1461 - accuracy: 0.3000 - f1_m: 0.3331 - 12s/epoch - 12ms/step\n",
      "Epoch 90/200\n",
      "974/974 - 11s - loss: 3.1425 - accuracy: 0.3013 - f1_m: 0.3323 - 11s/epoch - 12ms/step\n",
      "Epoch 91/200\n",
      "974/974 - 12s - loss: 3.1405 - accuracy: 0.3018 - f1_m: 0.3349 - 12s/epoch - 12ms/step\n",
      "Epoch 92/200\n",
      "974/974 - 12s - loss: 3.1380 - accuracy: 0.3015 - f1_m: 0.3346 - 12s/epoch - 12ms/step\n",
      "Epoch 93/200\n",
      "974/974 - 12s - loss: 3.1360 - accuracy: 0.2998 - f1_m: 0.3349 - 12s/epoch - 12ms/step\n",
      "Epoch 94/200\n",
      "974/974 - 12s - loss: 3.1341 - accuracy: 0.2998 - f1_m: 0.3332 - 12s/epoch - 12ms/step\n",
      "Epoch 95/200\n",
      "974/974 - 12s - loss: 3.1306 - accuracy: 0.3022 - f1_m: 0.3369 - 12s/epoch - 12ms/step\n",
      "Epoch 96/200\n",
      "974/974 - 12s - loss: 3.1297 - accuracy: 0.3015 - f1_m: 0.3336 - 12s/epoch - 12ms/step\n",
      "Epoch 97/200\n",
      "974/974 - 11s - loss: 3.1285 - accuracy: 0.3002 - f1_m: 0.3349 - 11s/epoch - 12ms/step\n",
      "Epoch 98/200\n",
      "974/974 - 12s - loss: 3.1272 - accuracy: 0.3030 - f1_m: 0.3366 - 12s/epoch - 12ms/step\n",
      "Epoch 99/200\n",
      "974/974 - 11s - loss: 3.1236 - accuracy: 0.3010 - f1_m: 0.3356 - 11s/epoch - 12ms/step\n",
      "Epoch 100/200\n",
      "974/974 - 12s - loss: 3.1222 - accuracy: 0.3009 - f1_m: 0.3343 - 12s/epoch - 12ms/step\n",
      "Epoch 101/200\n",
      "974/974 - 12s - loss: 3.1202 - accuracy: 0.3010 - f1_m: 0.3360 - 12s/epoch - 12ms/step\n",
      "Epoch 102/200\n",
      "974/974 - 12s - loss: 3.1180 - accuracy: 0.3011 - f1_m: 0.3329 - 12s/epoch - 12ms/step\n",
      "Epoch 103/200\n",
      "974/974 - 12s - loss: 3.1169 - accuracy: 0.3016 - f1_m: 0.3360 - 12s/epoch - 12ms/step\n",
      "Epoch 104/200\n",
      "974/974 - 11s - loss: 3.1135 - accuracy: 0.3017 - f1_m: 0.3337 - 11s/epoch - 12ms/step\n",
      "Epoch 105/200\n",
      "974/974 - 11s - loss: 3.1116 - accuracy: 0.3026 - f1_m: 0.3367 - 11s/epoch - 12ms/step\n",
      "Epoch 106/200\n",
      "974/974 - 11s - loss: 3.1103 - accuracy: 0.3008 - f1_m: 0.3362 - 11s/epoch - 12ms/step\n",
      "Epoch 107/200\n",
      "974/974 - 12s - loss: 3.1079 - accuracy: 0.3013 - f1_m: 0.3359 - 12s/epoch - 13ms/step\n",
      "Epoch 108/200\n",
      "974/974 - 11s - loss: 3.1073 - accuracy: 0.3000 - f1_m: 0.3343 - 11s/epoch - 12ms/step\n",
      "Epoch 109/200\n",
      "974/974 - 12s - loss: 3.1050 - accuracy: 0.3009 - f1_m: 0.3366 - 12s/epoch - 12ms/step\n",
      "Epoch 110/200\n",
      "974/974 - 11s - loss: 3.1027 - accuracy: 0.3013 - f1_m: 0.3350 - 11s/epoch - 11ms/step\n",
      "Epoch 111/200\n",
      "974/974 - 12s - loss: 3.1016 - accuracy: 0.3005 - f1_m: 0.3343 - 12s/epoch - 12ms/step\n",
      "Epoch 112/200\n",
      "974/974 - 12s - loss: 3.1023 - accuracy: 0.3020 - f1_m: 0.3349 - 12s/epoch - 12ms/step\n",
      "Epoch 113/200\n",
      "974/974 - 12s - loss: 3.0980 - accuracy: 0.3020 - f1_m: 0.3356 - 12s/epoch - 12ms/step\n",
      "Epoch 114/200\n",
      "974/974 - 12s - loss: 3.0980 - accuracy: 0.2994 - f1_m: 0.3346 - 12s/epoch - 12ms/step\n",
      "Epoch 115/200\n",
      "974/974 - 12s - loss: 3.0967 - accuracy: 0.3008 - f1_m: 0.3348 - 12s/epoch - 12ms/step\n",
      "Epoch 116/200\n",
      "974/974 - 12s - loss: 3.0945 - accuracy: 0.3015 - f1_m: 0.3357 - 12s/epoch - 13ms/step\n",
      "Epoch 117/200\n",
      "974/974 - 12s - loss: 3.0927 - accuracy: 0.3020 - f1_m: 0.3351 - 12s/epoch - 12ms/step\n",
      "Epoch 118/200\n",
      "974/974 - 12s - loss: 3.0930 - accuracy: 0.3013 - f1_m: 0.3342 - 12s/epoch - 12ms/step\n",
      "Epoch 119/200\n",
      "974/974 - 12s - loss: 3.0909 - accuracy: 0.3019 - f1_m: 0.3352 - 12s/epoch - 12ms/step\n",
      "Epoch 120/200\n",
      "974/974 - 12s - loss: 3.0882 - accuracy: 0.3017 - f1_m: 0.3351 - 12s/epoch - 13ms/step\n",
      "Epoch 121/200\n",
      "974/974 - 12s - loss: 3.0876 - accuracy: 0.3008 - f1_m: 0.3360 - 12s/epoch - 12ms/step\n",
      "Epoch 122/200\n",
      "974/974 - 12s - loss: 3.0862 - accuracy: 0.3018 - f1_m: 0.3359 - 12s/epoch - 12ms/step\n",
      "Epoch 123/200\n",
      "974/974 - 12s - loss: 3.0845 - accuracy: 0.3011 - f1_m: 0.3355 - 12s/epoch - 13ms/step\n",
      "Epoch 124/200\n",
      "974/974 - 12s - loss: 3.0842 - accuracy: 0.3006 - f1_m: 0.3354 - 12s/epoch - 12ms/step\n",
      "Epoch 125/200\n",
      "974/974 - 12s - loss: 3.0832 - accuracy: 0.3009 - f1_m: 0.3343 - 12s/epoch - 13ms/step\n",
      "Epoch 126/200\n",
      "974/974 - 12s - loss: 3.0802 - accuracy: 0.3003 - f1_m: 0.3358 - 12s/epoch - 12ms/step\n",
      "Epoch 127/200\n",
      "974/974 - 12s - loss: 3.0794 - accuracy: 0.3017 - f1_m: 0.3359 - 12s/epoch - 12ms/step\n",
      "Epoch 128/200\n",
      "974/974 - 12s - loss: 3.0783 - accuracy: 0.3013 - f1_m: 0.3342 - 12s/epoch - 12ms/step\n",
      "Epoch 129/200\n",
      "974/974 - 12s - loss: 3.0767 - accuracy: 0.3018 - f1_m: 0.3360 - 12s/epoch - 12ms/step\n",
      "Epoch 130/200\n",
      "974/974 - 12s - loss: 3.0765 - accuracy: 0.3014 - f1_m: 0.3353 - 12s/epoch - 13ms/step\n",
      "Epoch 131/200\n",
      "974/974 - 12s - loss: 3.0752 - accuracy: 0.3026 - f1_m: 0.3362 - 12s/epoch - 13ms/step\n",
      "Epoch 132/200\n",
      "974/974 - 12s - loss: 3.0729 - accuracy: 0.3015 - f1_m: 0.3357 - 12s/epoch - 12ms/step\n",
      "Epoch 133/200\n",
      "974/974 - 12s - loss: 3.0727 - accuracy: 0.3026 - f1_m: 0.3372 - 12s/epoch - 12ms/step\n",
      "Epoch 134/200\n",
      "974/974 - 12s - loss: 3.0712 - accuracy: 0.3006 - f1_m: 0.3344 - 12s/epoch - 13ms/step\n",
      "Epoch 135/200\n",
      "974/974 - 12s - loss: 3.0708 - accuracy: 0.3009 - f1_m: 0.3363 - 12s/epoch - 12ms/step\n",
      "Epoch 136/200\n",
      "974/974 - 12s - loss: 3.0695 - accuracy: 0.3019 - f1_m: 0.3359 - 12s/epoch - 13ms/step\n",
      "Epoch 137/200\n",
      "974/974 - 12s - loss: 3.0681 - accuracy: 0.3010 - f1_m: 0.3363 - 12s/epoch - 12ms/step\n",
      "Epoch 138/200\n",
      "974/974 - 12s - loss: 3.0674 - accuracy: 0.3020 - f1_m: 0.3358 - 12s/epoch - 12ms/step\n",
      "Epoch 139/200\n",
      "974/974 - 12s - loss: 3.0656 - accuracy: 0.3018 - f1_m: 0.3348 - 12s/epoch - 12ms/step\n",
      "Epoch 140/200\n",
      "974/974 - 12s - loss: 3.0635 - accuracy: 0.3007 - f1_m: 0.3334 - 12s/epoch - 12ms/step\n",
      "Epoch 141/200\n",
      "974/974 - 12s - loss: 3.0635 - accuracy: 0.3020 - f1_m: 0.3356 - 12s/epoch - 13ms/step\n",
      "Epoch 142/200\n",
      "974/974 - 12s - loss: 3.0618 - accuracy: 0.3012 - f1_m: 0.3361 - 12s/epoch - 13ms/step\n",
      "Epoch 143/200\n",
      "974/974 - 12s - loss: 3.0621 - accuracy: 0.3019 - f1_m: 0.3361 - 12s/epoch - 13ms/step\n",
      "Epoch 144/200\n",
      "974/974 - 12s - loss: 3.0595 - accuracy: 0.3013 - f1_m: 0.3367 - 12s/epoch - 12ms/step\n",
      "Epoch 145/200\n",
      "974/974 - 12s - loss: 3.0599 - accuracy: 0.3015 - f1_m: 0.3365 - 12s/epoch - 12ms/step\n",
      "Epoch 146/200\n",
      "974/974 - 12s - loss: 3.0578 - accuracy: 0.3017 - f1_m: 0.3368 - 12s/epoch - 13ms/step\n",
      "Epoch 147/200\n",
      "974/974 - 12s - loss: 3.0560 - accuracy: 0.3012 - f1_m: 0.3340 - 12s/epoch - 13ms/step\n",
      "Epoch 148/200\n",
      "974/974 - 12s - loss: 3.0558 - accuracy: 0.3028 - f1_m: 0.3372 - 12s/epoch - 13ms/step\n",
      "Epoch 149/200\n",
      "974/974 - 12s - loss: 3.0550 - accuracy: 0.3013 - f1_m: 0.3358 - 12s/epoch - 13ms/step\n",
      "Epoch 150/200\n",
      "974/974 - 12s - loss: 3.0537 - accuracy: 0.3014 - f1_m: 0.3365 - 12s/epoch - 13ms/step\n",
      "Epoch 151/200\n",
      "974/974 - 12s - loss: 3.0515 - accuracy: 0.3013 - f1_m: 0.3358 - 12s/epoch - 13ms/step\n",
      "Epoch 152/200\n",
      "974/974 - 12s - loss: 3.0523 - accuracy: 0.3026 - f1_m: 0.3370 - 12s/epoch - 13ms/step\n",
      "Epoch 153/200\n",
      "974/974 - 12s - loss: 3.0506 - accuracy: 0.3009 - f1_m: 0.3355 - 12s/epoch - 13ms/step\n",
      "Epoch 154/200\n",
      "974/974 - 12s - loss: 3.0509 - accuracy: 0.3018 - f1_m: 0.3368 - 12s/epoch - 12ms/step\n",
      "Epoch 155/200\n",
      "974/974 - 13s - loss: 3.0499 - accuracy: 0.3010 - f1_m: 0.3357 - 13s/epoch - 13ms/step\n",
      "Epoch 156/200\n",
      "974/974 - 13s - loss: 3.0477 - accuracy: 0.3017 - f1_m: 0.3379 - 13s/epoch - 13ms/step\n",
      "Epoch 157/200\n",
      "974/974 - 13s - loss: 3.0458 - accuracy: 0.3013 - f1_m: 0.3359 - 13s/epoch - 13ms/step\n",
      "Epoch 158/200\n",
      "974/974 - 13s - loss: 3.0467 - accuracy: 0.3009 - f1_m: 0.3356 - 13s/epoch - 13ms/step\n",
      "Epoch 159/200\n",
      "974/974 - 13s - loss: 3.0460 - accuracy: 0.3013 - f1_m: 0.3340 - 13s/epoch - 13ms/step\n",
      "Epoch 160/200\n",
      "974/974 - 13s - loss: 3.0452 - accuracy: 0.3007 - f1_m: 0.3370 - 13s/epoch - 13ms/step\n",
      "Epoch 161/200\n",
      "974/974 - 13s - loss: 3.0429 - accuracy: 0.3020 - f1_m: 0.3360 - 13s/epoch - 13ms/step\n",
      "Epoch 162/200\n",
      "974/974 - 13s - loss: 3.0444 - accuracy: 0.2997 - f1_m: 0.3364 - 13s/epoch - 14ms/step\n",
      "Epoch 163/200\n",
      "974/974 - 14s - loss: 3.0427 - accuracy: 0.3026 - f1_m: 0.3355 - 14s/epoch - 14ms/step\n",
      "Epoch 164/200\n",
      "974/974 - 14s - loss: 3.0417 - accuracy: 0.3018 - f1_m: 0.3364 - 14s/epoch - 14ms/step\n",
      "Epoch 165/200\n",
      "974/974 - 14s - loss: 3.0404 - accuracy: 0.3020 - f1_m: 0.3387 - 14s/epoch - 14ms/step\n",
      "Epoch 166/200\n",
      "974/974 - 14s - loss: 3.0404 - accuracy: 0.3005 - f1_m: 0.3361 - 14s/epoch - 14ms/step\n",
      "Epoch 167/200\n",
      "974/974 - 14s - loss: 3.0383 - accuracy: 0.3029 - f1_m: 0.3379 - 14s/epoch - 14ms/step\n",
      "Epoch 168/200\n",
      "974/974 - 14s - loss: 3.0397 - accuracy: 0.3027 - f1_m: 0.3371 - 14s/epoch - 14ms/step\n",
      "Epoch 169/200\n",
      "974/974 - 13s - loss: 3.0365 - accuracy: 0.3024 - f1_m: 0.3370 - 13s/epoch - 13ms/step\n",
      "Epoch 170/200\n",
      "974/974 - 257s - loss: 3.0361 - accuracy: 0.3016 - f1_m: 0.3375 - 257s/epoch - 263ms/step\n",
      "Epoch 171/200\n",
      "974/974 - 7s - loss: 3.0341 - accuracy: 0.3019 - f1_m: 0.3359 - 7s/epoch - 7ms/step\n",
      "Epoch 172/200\n",
      "974/974 - 6s - loss: 3.0359 - accuracy: 0.3027 - f1_m: 0.3370 - 6s/epoch - 6ms/step\n",
      "Epoch 173/200\n",
      "974/974 - 6s - loss: 3.0343 - accuracy: 0.3003 - f1_m: 0.3379 - 6s/epoch - 6ms/step\n",
      "Epoch 174/200\n",
      "974/974 - 7s - loss: 3.0343 - accuracy: 0.3017 - f1_m: 0.3374 - 7s/epoch - 7ms/step\n",
      "Epoch 175/200\n",
      "974/974 - 7s - loss: 3.0320 - accuracy: 0.3029 - f1_m: 0.3380 - 7s/epoch - 7ms/step\n",
      "Epoch 176/200\n",
      "974/974 - 7s - loss: 3.0317 - accuracy: 0.3018 - f1_m: 0.3367 - 7s/epoch - 7ms/step\n",
      "Epoch 177/200\n",
      "974/974 - 7s - loss: 3.0310 - accuracy: 0.3019 - f1_m: 0.3372 - 7s/epoch - 7ms/step\n",
      "Epoch 178/200\n",
      "974/974 - 7s - loss: 3.0301 - accuracy: 0.3004 - f1_m: 0.3368 - 7s/epoch - 7ms/step\n",
      "Epoch 179/200\n",
      "974/974 - 7s - loss: 3.0279 - accuracy: 0.3035 - f1_m: 0.3377 - 7s/epoch - 7ms/step\n",
      "Epoch 180/200\n",
      "974/974 - 7s - loss: 3.0292 - accuracy: 0.3017 - f1_m: 0.3380 - 7s/epoch - 7ms/step\n",
      "Epoch 181/200\n",
      "974/974 - 7s - loss: 3.0264 - accuracy: 0.3008 - f1_m: 0.3358 - 7s/epoch - 7ms/step\n",
      "Epoch 182/200\n",
      "974/974 - 7s - loss: 3.0259 - accuracy: 0.3031 - f1_m: 0.3378 - 7s/epoch - 8ms/step\n",
      "Epoch 183/200\n",
      "974/974 - 8s - loss: 3.0267 - accuracy: 0.3024 - f1_m: 0.3381 - 8s/epoch - 9ms/step\n",
      "Epoch 184/200\n",
      "974/974 - 8s - loss: 3.0254 - accuracy: 0.3026 - f1_m: 0.3365 - 8s/epoch - 8ms/step\n",
      "Epoch 185/200\n",
      "974/974 - 8s - loss: 3.0247 - accuracy: 0.3013 - f1_m: 0.3369 - 8s/epoch - 9ms/step\n",
      "Epoch 186/200\n",
      "974/974 - 8s - loss: 3.0227 - accuracy: 0.3035 - f1_m: 0.3383 - 8s/epoch - 8ms/step\n",
      "Epoch 187/200\n",
      "974/974 - 8s - loss: 3.0226 - accuracy: 0.3017 - f1_m: 0.3373 - 8s/epoch - 8ms/step\n",
      "Epoch 188/200\n",
      "974/974 - 8s - loss: 3.0215 - accuracy: 0.3029 - f1_m: 0.3389 - 8s/epoch - 8ms/step\n",
      "Epoch 189/200\n",
      "974/974 - 8s - loss: 3.0233 - accuracy: 0.3024 - f1_m: 0.3380 - 8s/epoch - 8ms/step\n",
      "Epoch 190/200\n",
      "974/974 - 8s - loss: 3.0217 - accuracy: 0.3014 - f1_m: 0.3373 - 8s/epoch - 8ms/step\n",
      "Epoch 191/200\n",
      "974/974 - 8s - loss: 3.0194 - accuracy: 0.3018 - f1_m: 0.3369 - 8s/epoch - 8ms/step\n",
      "Epoch 192/200\n",
      "974/974 - 8s - loss: 3.0219 - accuracy: 0.3017 - f1_m: 0.3377 - 8s/epoch - 8ms/step\n",
      "Epoch 193/200\n",
      "974/974 - 8s - loss: 3.0216 - accuracy: 0.3019 - f1_m: 0.3370 - 8s/epoch - 8ms/step\n",
      "Epoch 194/200\n",
      "974/974 - 8s - loss: 3.0182 - accuracy: 0.3014 - f1_m: 0.3363 - 8s/epoch - 9ms/step\n",
      "Epoch 195/200\n",
      "974/974 - 8s - loss: 3.0180 - accuracy: 0.3026 - f1_m: 0.3385 - 8s/epoch - 9ms/step\n",
      "Epoch 196/200\n",
      "974/974 - 8s - loss: 3.0177 - accuracy: 0.3019 - f1_m: 0.3389 - 8s/epoch - 9ms/step\n",
      "Epoch 197/200\n",
      "974/974 - 8s - loss: 3.0180 - accuracy: 0.3003 - f1_m: 0.3358 - 8s/epoch - 9ms/step\n",
      "Epoch 198/200\n",
      "974/974 - 8s - loss: 3.0157 - accuracy: 0.3022 - f1_m: 0.3367 - 8s/epoch - 8ms/step\n",
      "Epoch 199/200\n",
      "974/974 - 8s - loss: 3.0146 - accuracy: 0.3027 - f1_m: 0.3383 - 8s/epoch - 8ms/step\n",
      "Epoch 200/200\n",
      "974/974 - 8s - loss: 3.0149 - accuracy: 0.3005 - f1_m: 0.3376 - 8s/epoch - 8ms/step\n"
     ]
    }
   ],
   "source": [
    "word_history = word_model.fit(context_word_train, next_word_train, epochs=200, verbose=2)"
   ]
  },
  {
   "attachments": {},
   "cell_type": "markdown",
   "metadata": {},
   "source": [
    "<p style = \"font-size:12pt\">\n",
    "✨圖像化訓練過程\n",
    "</p>"
   ]
  },
  {
   "cell_type": "code",
   "execution_count": 95,
   "metadata": {},
   "outputs": [
    {
     "data": {
      "image/png": "[encoded data removed]",
      "text/plain": [
       "<Figure size 1500x500 with 3 Axes>"
      ]
     },
     "metadata": {},
     "output_type": "display_data"
    }
   ],
   "source": [
    "import matplotlib.pyplot as plt\n",
    "\n",
    "plt.figure(figsize=(15, 5))\n",
    "\n",
    "plt.subplot(131)\n",
    "plt.plot(word_history.history['accuracy'], 'C1')\n",
    "plt.ylabel('Accuracy')\n",
    "plt.xlabel('Epoch')\n",
    "plt.subplot(132)\n",
    "plt.plot(word_history.history['f1_m'], 'C2')\n",
    "plt.ylabel('f-score')\n",
    "plt.xlabel('Epoch')\n",
    "plt.subplot(133)\n",
    "plt.plot(word_history.history['loss'], 'C0')\n",
    "plt.ylabel('loss')\n",
    "plt.xlabel('Epoch')\n",
    "plt.suptitle('Model History')\n",
    "plt.show()"
   ]
  },
  {
   "attachments": {},
   "cell_type": "markdown",
   "metadata": {},
   "source": [
    "<p style = \"font-size:14pt\">\n",
    "<b>Step 4. 模型評估</b>\n",
    "</p>\n",
    "\n",
    "<p style = \"font-size:12pt\">\n",
    "✨結果預測\n",
    "</p>"
   ]
  },
  {
   "cell_type": "code",
   "execution_count": 96,
   "metadata": {},
   "outputs": [
    {
     "name": "stdout",
     "output_type": "stream",
     "text": [
      "244/244 [==============================] - 1s 3ms/step\n"
     ]
    }
   ],
   "source": [
    "word_prediction = np.argmax(word_model.predict(context_word_test), axis=-1)"
   ]
  },
  {
   "attachments": {},
   "cell_type": "markdown",
   "metadata": {},
   "source": [
    "<p style = \"font-size:12pt\">\n",
    "✨結果評估\n",
    "</p>"
   ]
  },
  {
   "cell_type": "code",
   "execution_count": 15,
   "metadata": {},
   "outputs": [],
   "source": [
    "from sklearn.metrics import precision_recall_fscore_support, accuracy_score\n",
    "\n",
    "def model_metrics(prediction, label, classes): # 定義一個新功能叫做model_metrics，裡面需要prediction跟label兩個參數。然後作下面這然後做下面這些事情\n",
    "    \n",
    "    evaluation = precision_recall_fscore_support(label, prediction, average='micro', labels=classes) # 計算precision, recall, F-score\n",
    "    accuracy = accuracy_score(label, prediction) # 計算accuracy\n",
    "\n",
    "    # 印出評估結果\n",
    "    print(\"accuracy: \" + str(round(accuracy, 2)) + \"\\nprecision: \" + str(round(evaluation[0], 2)) + \"\\nrecall: \" + str(round(evaluation[1], 2)) + \"\\nfscore: \" + str(round(evaluation[2],2)))"
   ]
  },
  {
   "cell_type": "code",
   "execution_count": 97,
   "metadata": {},
   "outputs": [
    {
     "name": "stdout",
     "output_type": "stream",
     "text": [
      "accuracy: 0.1\n",
      "precision: 0.1\n",
      "recall: 0.1\n",
      "fscore: 0.1\n"
     ]
    }
   ],
   "source": [
    "model_metrics(word_prediction, np.argmax(next_word_test, axis=-1), range(vocab_size))"
   ]
  },
  {
   "attachments": {},
   "cell_type": "markdown",
   "metadata": {},
   "source": [
    "<p style = \"font-size:12pt\">\n",
    "&emsp;&ensp;因為全部印出來太多了，下面只印20筆出來。格式是<b>語境 預測結果 | 正確答案</b>\n",
    "</p>"
   ]
  },
  {
   "cell_type": "code",
   "execution_count": 98,
   "metadata": {},
   "outputs": [
    {
     "name": "stdout",
     "output_type": "stream",
     "text": [
      "西關 服怨 | 外\n",
      "正是 一個 | 向\n",
      "他 的 | 說\n",
      "人 的 | 是\n",
      "都 是 | 驚服\n",
      "堆外 服怨 | 站\n",
      "又 都 | 來\n",
      "殺 了 | 掉\n",
      "得 他 | 外面\n",
      "有 了 | 影像\n",
      "一樣 ！ | 的\n",
      "船底 服怨 | 潺潺\n",
      "五虎 服怨 | 將\n",
      "你 的 | 的\n",
      "溫酒 做工 | 的\n",
      "來 的 | 了\n",
      "腰間 說 | 還掛\n",
      "下午 他 | 我\n",
      "還膽怯 服怨 | 獨有\n",
      "駡 的 | 或\n"
     ]
    }
   ],
   "source": [
    "word_list = list(tokenizer.word_index.keys())\n",
    "\n",
    "for i in range(20):\n",
    "    context = word_list[context_word_test[i]-1]\n",
    "    predicted = word_list[word_prediction[i]-1]\n",
    "    correct = word_list[np.argmax(next_word_test, axis=-1)[i]-1]\n",
    "    print(context + \" \" + predicted + \" | \" + correct)"
   ]
  },
  {
   "attachments": {},
   "cell_type": "markdown",
   "metadata": {},
   "source": [
    "<p align = \"center\", style = \"font-size:16pt\">\n",
    "    🧐<b>討論</b>🧐<br>\n",
    "</p>\n",
    "<p style = \"font-size:12pt\">\n",
    "   &emsp;&emsp;從模型訓練過程畫出的圖可以發現，它在大概第30~40個epoch就已經收斂了，基本上f-score最多只能在0.3左右徘徊。這可能跟資料其實不大有關。<br>\n",
    "   &emsp;&emsp;預測完結果並計算f-score之後發現結果真的滿差的（0.14）。推測會這樣的原因可能如下。在使用bigram訓練資料的情況下，我們獲得的context其實不太夠。同樣一個詞後面能接的詞也不只一個，只是剛好在我們用來測試的資料後面不接預測出來的詞並不代表平常也不能接，尤其是在只有一個context word的情況下。也就是說現在的結果評估方式可能不太適合這個任務，如果訓練line-line sequence的模型可能會比較適合這樣的評估方法，也可以得到較好的結果。（BTW 發現清資料的時候忘記把驚嘆號拿掉了，但是跑200個epoch真的好久，請原諒我沒有重新處理TT）\n",
    "</p>"
   ]
  },
  {
   "attachments": {},
   "cell_type": "markdown",
   "metadata": {},
   "source": [
    "<p style = \"font-size:16pt\", align=\"center\">\n",
    "<b>Neural Language Model with <code>tflearn</code></b>\n",
    "</p>\n",
    "\n",
    "<p style = \"font-size:12pt\">\n",
    "✨引進套件\n",
    "</p>"
   ]
  },
  {
   "cell_type": "code",
   "execution_count": 16,
   "metadata": {},
   "outputs": [
    {
     "name": "stdout",
     "output_type": "stream",
     "text": [
      "WARNING:tensorflow:From c:\\Users\\c5227\\anaconda3\\lib\\site-packages\\tensorflow\\python\\compat\\v2_compat.py:107: disable_resource_variables (from tensorflow.python.ops.variable_scope) is deprecated and will be removed in a future version.\n",
      "Instructions for updating:\n",
      "non-resource variables are not supported in the long term\n",
      "curses is not supported on this machine (please install/reinstall curses for an optimal experience)\n"
     ]
    }
   ],
   "source": [
    "import tensorflow as tf\n",
    "import tflearn"
   ]
  },
  {
   "attachments": {},
   "cell_type": "markdown",
   "metadata": {},
   "source": [
    "<p style = \"font-size:12pt\">\n",
    "✨初始化模型\n",
    "</p>"
   ]
  },
  {
   "cell_type": "code",
   "execution_count": 17,
   "metadata": {},
   "outputs": [
    {
     "name": "stdout",
     "output_type": "stream",
     "text": [
      "WARNING:tensorflow:From c:\\Users\\c5227\\anaconda3\\lib\\site-packages\\tflearn\\initializations.py:164: calling TruncatedNormal.__init__ (from tensorflow.python.ops.init_ops) with dtype is deprecated and will be removed in a future version.\n",
      "Instructions for updating:\n",
      "Call initializer instance with the dtype argument instead of passing it to the constructor\n"
     ]
    }
   ],
   "source": [
    "tf.compat.v1.reset_default_graph()\n",
    "net = tflearn.input_data([None, vocab_size], name='input')\n",
    "net = tflearn.embedding(net, input_dim=vocab_size, output_dim=10,\n",
    "                        trainable=False)\n",
    "net = tflearn.fully_connected(net, 50, activation='Relu')\n",
    "net = tflearn.fully_connected(net, vocab_size, activation='softmax')\n",
    "net = tflearn.regression(net, optimizer='adam', learning_rate=0.01,\n",
    "                         loss='categorical_crossentropy', name='target')\n",
    "model_16 = tflearn.DNN(net)"
   ]
  },
  {
   "attachments": {},
   "cell_type": "markdown",
   "metadata": {},
   "source": [
    "<p style = \"font-size:12pt\">\n",
    "✨模型訓練\n",
    "</p>"
   ]
  },
  {
   "cell_type": "code",
   "execution_count": 28,
   "metadata": {},
   "outputs": [
    {
     "name": "stdout",
     "output_type": "stream",
     "text": [
      "Training Step: 97399  | total loss: \u001b[1m\u001b[32m7.18412\u001b[0m\u001b[0m | time: 42.842s\n",
      "| Adam | epoch: 050 | loss: 7.18412 - acc: 0.0491 -- iter: 31152/31164\n",
      "Training Step: 97400  | total loss: \u001b[1m\u001b[32m7.13851\u001b[0m\u001b[0m | time: 46.249s\n",
      "| Adam | epoch: 050 | loss: 7.13851 - acc: 0.0630 | val_loss: 9.22914 - val_acc: 0.0666 -- iter: 31164/31164\n",
      "--\n"
     ]
    }
   ],
   "source": [
    "model_16.fit(to_categorical(context_word_train, num_classes = vocab_size, dtype=\"uint8\"), next_word_train.astype(np.uint8), validation_set=(to_categorical(context_word_test, num_classes = vocab_size, dtype=\"uint8\"), next_word_test.astype(np.uint8)), show_metric=True,\n",
    "           batch_size=16, n_epoch=50)"
   ]
  },
  {
   "cell_type": "code",
   "execution_count": 19,
   "metadata": {},
   "outputs": [
    {
     "name": "stdout",
     "output_type": "stream",
     "text": [
      "Training Step: 48699  | time: 33.300s\n",
      "| Adam | epoch: 050 | loss: 0.00000 - acc: 0.0000 -- iter: 31136/31164\n",
      "Training Step: 48700  | time: 37.165s\n",
      "| Adam | epoch: 050 | loss: 0.00000 - acc: 0.0000 | val_loss: 9.23189 - val_acc: 0.0666 -- iter: 31164/31164\n",
      "--\n"
     ]
    }
   ],
   "source": [
    "model_32 = tflearn.DNN(net)\n",
    "model_32.fit(to_categorical(context_word_train, num_classes = vocab_size, dtype=\"uint8\"), next_word_train.astype(np.uint8), validation_set=(to_categorical(context_word_test, num_classes = vocab_size, dtype=\"uint8\"), next_word_test.astype(np.uint8)), show_metric=True,\n",
    "           batch_size=32, n_epoch=50)"
   ]
  },
  {
   "attachments": {},
   "cell_type": "markdown",
   "metadata": {},
   "source": [
    "<p style = \"font-size:12pt\">\n",
    "✨結果預測\n",
    "</p>"
   ]
  },
  {
   "cell_type": "code",
   "execution_count": 31,
   "metadata": {},
   "outputs": [],
   "source": [
    "prediction_16 = np.argmax(model_16.predict(to_categorical(context_word_test, num_classes = vocab_size, dtype=\"uint8\")), axis = -1)"
   ]
  },
  {
   "cell_type": "code",
   "execution_count": 20,
   "metadata": {},
   "outputs": [],
   "source": [
    "prediction_32 = np.argmax(model_32.predict(to_categorical(context_word_test, num_classes = vocab_size, dtype=\"uint8\")), axis = -1)"
   ]
  },
  {
   "attachments": {},
   "cell_type": "markdown",
   "metadata": {},
   "source": [
    "<p style = \"font-size:12pt\">\n",
    "✨結果評估\n",
    "</p>"
   ]
  },
  {
   "cell_type": "code",
   "execution_count": 34,
   "metadata": {},
   "outputs": [
    {
     "name": "stdout",
     "output_type": "stream",
     "text": [
      "accuracy: 0.07\n",
      "precision: 0.07\n",
      "recall: 0.07\n",
      "fscore: 0.07\n"
     ]
    }
   ],
   "source": [
    "model_metrics(prediction_16, np.argmax(next_word_test, axis=1), range(vocab_size))"
   ]
  },
  {
   "cell_type": "code",
   "execution_count": 21,
   "metadata": {},
   "outputs": [
    {
     "name": "stdout",
     "output_type": "stream",
     "text": [
      "accuracy: 0.07\n",
      "precision: 0.07\n",
      "recall: 0.07\n",
      "fscore: 0.07\n"
     ]
    }
   ],
   "source": [
    "model_metrics(prediction_32, np.argmax(next_word_test, axis=-1), range(vocab_size))"
   ]
  },
  {
   "cell_type": "code",
   "execution_count": 36,
   "metadata": {},
   "outputs": [
    {
     "name": "stdout",
     "output_type": "stream",
     "text": [
      "西關 的 | 外\n",
      "正是 的 | 向\n",
      "他 的 | 說\n",
      "人 的 | 是\n",
      "都 的 | 驚服\n",
      "堆外 的 | 站\n",
      "又 的 | 來\n",
      "殺 的 | 掉\n",
      "得 的 | 外面\n",
      "有 的 | 影像\n",
      "一樣 的 | 的\n",
      "船底 的 | 潺潺\n",
      "五虎 的 | 將\n",
      "你 的 | 的\n",
      "溫酒 的 | 的\n",
      "來 的 | 了\n",
      "腰間 的 | 還掛\n",
      "下午 的 | 我\n",
      "還膽怯 的 | 獨有\n",
      "駡 的 | 或\n"
     ]
    }
   ],
   "source": [
    "for i in range(20):\n",
    "    context = word_list[context_word_test[i]-1]\n",
    "    predicted = word_list[prediction_16[i]-1]\n",
    "    correct = word_list[np.argmax(next_word_test, axis=-1)[i]-1]\n",
    "    print(context + \" \" + predicted + \" | \" + correct)"
   ]
  },
  {
   "cell_type": "code",
   "execution_count": 23,
   "metadata": {},
   "outputs": [
    {
     "name": "stdout",
     "output_type": "stream",
     "text": [
      "西關 的 | 外\n",
      "正是 的 | 向\n",
      "他 的 | 說\n",
      "人 的 | 是\n",
      "都 的 | 驚服\n",
      "堆外 的 | 站\n",
      "又 的 | 來\n",
      "殺 的 | 掉\n",
      "得 的 | 外面\n",
      "有 的 | 影像\n",
      "一樣 的 | 的\n",
      "船底 的 | 潺潺\n",
      "五虎 的 | 將\n",
      "你 的 | 的\n",
      "溫酒 的 | 的\n",
      "來 的 | 了\n",
      "腰間 的 | 還掛\n",
      "下午 的 | 我\n",
      "還膽怯 的 | 獨有\n",
      "駡 的 | 或\n"
     ]
    }
   ],
   "source": [
    "for i in range(20):\n",
    "    context = word_list[context_word_test[i]-1]\n",
    "    predicted = word_list[prediction_32[i]-1]\n",
    "    correct = word_list[np.argmax(next_word_test, axis=-1)[i]-1]\n",
    "    print(context + \" \" + predicted + \" | \" + correct)"
   ]
  },
  {
   "attachments": {},
   "cell_type": "markdown",
   "metadata": {},
   "source": [
    "<p align = \"center\", style = \"font-size:16pt\">\n",
    "    🧐<b>討論</b>🧐<br>\n",
    "</p>\n",
    "<p style = \"font-size:12pt\">\n",
    "   &emsp;&emsp;本來期待換batch size可以達到不一樣的效果，但看起來模型是壞掉了，不知道為什麼每個都預測「的」。這裡可能的原因是「的」作為頻率很高的停止詞卻沒有被拿掉的關係。但是這個現象在剛剛用<code>keras</code>訓練的模型卻沒有發生。不知道是我的程式碼有問題還是他的算法就是比較沒辦法避免這樣的情況。\n",
    "   &emsp;&emsp;話又說回來，因為<code>tflearn</code>在訓練模型的時候，特徵跟答案都要是categorical的型態，所以我一開始是用跟上面一樣的方法轉換。結果電腦整個死掉（連網路都卡住的那種死掉）還跑出OOM的error，整個嚇死。後來才發現有<b>uint8</b>這種資料型態可以節省空間，也算是學到了新東西。（雖然驚嚇還是比較多的）\n",
    "</p>"
   ]
  }
 ],
 "metadata": {
  "kernelspec": {
   "display_name": "base",
   "language": "python",
   "name": "python3"
  },
  "language_info": {
   "codemirror_mode": {
    "name": "ipython",
    "version": 3
   },
   "file_extension": ".py",
   "mimetype": "text/x-python",
   "name": "python",
   "nbconvert_exporter": "python",
   "pygments_lexer": "ipython3",
   "version": "3.9.13"
  },
  "orig_nbformat": 4
 },
 "nbformat": 4,
 "nbformat_minor": 2
}
