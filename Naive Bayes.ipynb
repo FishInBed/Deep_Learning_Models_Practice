{
 "cells": [
  {
   "attachments": {},
   "cell_type": "markdown",
   "metadata": {},
   "source": [
    "**余盈蓓；語碩二；110555009**\\\n",
    "**111-2 Computational Linguistics**\n",
    "<p align=\"center\", style = \"font-size:18pt\">\n",
    "<b>2nd Assignment<br>\n",
    "Naive Bayes</b>\n",
    "</p>"
   ]
  },
  {
   "attachments": {},
   "cell_type": "markdown",
   "metadata": {},
   "source": [
    "<p align=\"center\">\n",
    "以下將使用從<a href = \"https://www.kaggle.com/datasets/niraliivaghani/flipkart-product-customer-reviews-dataset\" target=\"_blank\">Kaggle</a>取得的<a href = \"https://www.flipkart.com/\" target = \"_blank\">線上購物網站－Flipkart</a>上，消費者對商品的評論資料，以Naive Bayes實作情感分析。<br>\n",
    "<br>"
   ]
  },
  {
   "attachments": {},
   "cell_type": "markdown",
   "metadata": {},
   "source": [
    "<p style = \"font-size:14pt\">\n",
    "<b>Step 1. 資料前處理</b>\n",
    "</p>\n",
    "<p style = \"font-size:12pt\">\n",
    "✨資料讀入\n",
    "</p>"
   ]
  },
  {
   "cell_type": "code",
   "execution_count": 3,
   "metadata": {},
   "outputs": [],
   "source": [
    "import pandas as pd\n",
    "\n",
    "data = pd.read_csv(\"data.csv\")"
   ]
  },
  {
   "cell_type": "code",
   "execution_count": 4,
   "metadata": {},
   "outputs": [
    {
     "data": {
      "text/html": [
       "<div>\n",
       "<style scoped>\n",
       "    .dataframe tbody tr th:only-of-type {\n",
       "        vertical-align: middle;\n",
       "    }\n",
       "\n",
       "    .dataframe tbody tr th {\n",
       "        vertical-align: top;\n",
       "    }\n",
       "\n",
       "    .dataframe thead th {\n",
       "        text-align: right;\n",
       "    }\n",
       "</style>\n",
       "<table border=\"1\" class=\"dataframe\">\n",
       "  <thead>\n",
       "    <tr style=\"text-align: right;\">\n",
       "      <th></th>\n",
       "      <th>product_name</th>\n",
       "      <th>product_price</th>\n",
       "      <th>Rate</th>\n",
       "      <th>Review</th>\n",
       "      <th>Summary</th>\n",
       "      <th>Sentiment</th>\n",
       "    </tr>\n",
       "  </thead>\n",
       "  <tbody>\n",
       "    <tr>\n",
       "      <th>0</th>\n",
       "      <td>Candes 12 L Room/Personal Air Cooler??????(Whi...</td>\n",
       "      <td>3999</td>\n",
       "      <td>5</td>\n",
       "      <td>super!</td>\n",
       "      <td>great cooler excellent air flow and for this p...</td>\n",
       "      <td>positive</td>\n",
       "    </tr>\n",
       "    <tr>\n",
       "      <th>1</th>\n",
       "      <td>Candes 12 L Room/Personal Air Cooler??????(Whi...</td>\n",
       "      <td>3999</td>\n",
       "      <td>5</td>\n",
       "      <td>awesome</td>\n",
       "      <td>best budget 2 fit cooler nice cooling</td>\n",
       "      <td>positive</td>\n",
       "    </tr>\n",
       "    <tr>\n",
       "      <th>2</th>\n",
       "      <td>Candes 12 L Room/Personal Air Cooler??????(Whi...</td>\n",
       "      <td>3999</td>\n",
       "      <td>3</td>\n",
       "      <td>fair</td>\n",
       "      <td>the quality is good but the power of air is de...</td>\n",
       "      <td>positive</td>\n",
       "    </tr>\n",
       "    <tr>\n",
       "      <th>3</th>\n",
       "      <td>Candes 12 L Room/Personal Air Cooler??????(Whi...</td>\n",
       "      <td>3999</td>\n",
       "      <td>1</td>\n",
       "      <td>useless product</td>\n",
       "      <td>very bad product its a only a fan</td>\n",
       "      <td>negative</td>\n",
       "    </tr>\n",
       "    <tr>\n",
       "      <th>4</th>\n",
       "      <td>Candes 12 L Room/Personal Air Cooler??????(Whi...</td>\n",
       "      <td>3999</td>\n",
       "      <td>3</td>\n",
       "      <td>fair</td>\n",
       "      <td>ok ok product</td>\n",
       "      <td>neutral</td>\n",
       "    </tr>\n",
       "  </tbody>\n",
       "</table>\n",
       "</div>"
      ],
      "text/plain": [
       "                                        product_name  product_price  Rate  \\\n",
       "0  Candes 12 L Room/Personal Air Cooler??????(Whi...           3999     5   \n",
       "1  Candes 12 L Room/Personal Air Cooler??????(Whi...           3999     5   \n",
       "2  Candes 12 L Room/Personal Air Cooler??????(Whi...           3999     3   \n",
       "3  Candes 12 L Room/Personal Air Cooler??????(Whi...           3999     1   \n",
       "4  Candes 12 L Room/Personal Air Cooler??????(Whi...           3999     3   \n",
       "\n",
       "            Review                                            Summary  \\\n",
       "0           super!  great cooler excellent air flow and for this p...   \n",
       "1          awesome              best budget 2 fit cooler nice cooling   \n",
       "2             fair  the quality is good but the power of air is de...   \n",
       "3  useless product                  very bad product its a only a fan   \n",
       "4             fair                                      ok ok product   \n",
       "\n",
       "  Sentiment  \n",
       "0  positive  \n",
       "1  positive  \n",
       "2  positive  \n",
       "3  negative  \n",
       "4   neutral  "
      ]
     },
     "execution_count": 4,
     "metadata": {},
     "output_type": "execute_result"
    }
   ],
   "source": [
    "data.head()"
   ]
  },
  {
   "cell_type": "code",
   "execution_count": 5,
   "metadata": {},
   "outputs": [
    {
     "name": "stdout",
     "output_type": "stream",
     "text": [
      "<class 'pandas.core.frame.DataFrame'>\n",
      "RangeIndex: 205049 entries, 0 to 205048\n",
      "Data columns (total 6 columns):\n",
      " #   Column         Non-Null Count   Dtype \n",
      "---  ------         --------------   ----- \n",
      " 0   product_name   205049 non-null  object\n",
      " 1   product_price  205049 non-null  int64 \n",
      " 2   Rate           205049 non-null  int64 \n",
      " 3   Review         180385 non-null  object\n",
      " 4   Summary        205038 non-null  object\n",
      " 5   Sentiment      205049 non-null  object\n",
      "dtypes: int64(2), object(4)\n",
      "memory usage: 9.4+ MB\n"
     ]
    }
   ],
   "source": [
    "data.info()"
   ]
  },
  {
   "attachments": {},
   "cell_type": "markdown",
   "metadata": {},
   "source": [
    "<p style = \"font-size:12pt\">\n",
    "✨資料簡述<br>\n",
    "&emsp;&ensp;該dataset中包含下列六個column：<br>\n",
    "&emsp;&ensp;🎲 產品名稱<br>\n",
    "&emsp;&ensp;🎲 產品價格<br>\n",
    "&emsp;&ensp;🎲 消費者評分：消費者對商品的滿意度評分（1~5分）<br>\n",
    "&emsp;&ensp;🎲 固化評語：消費者根據網站提供模板選取針對產品的評價<br>\n",
    "&emsp;&ensp;🎲 消費者評論：消費者針對商品親自撰寫的評價<br>\n",
    "&emsp;&ensp;🎲 評論正負向：資料提供者根據消費者評論給予的分類，包含positive, negative, neutral三種<br>\n",
    "</p>"
   ]
  },
  {
   "attachments": {},
   "cell_type": "markdown",
   "metadata": {},
   "source": [
    "<p style = \"font-size:12pt\">\n",
    "✨NA值處理<br>\n",
    "</p>"
   ]
  },
  {
   "cell_type": "code",
   "execution_count": 6,
   "metadata": {},
   "outputs": [
    {
     "name": "stdout",
     "output_type": "stream",
     "text": [
      "<class 'pandas.core.frame.DataFrame'>\n",
      "RangeIndex: 180376 entries, 0 to 180375\n",
      "Data columns (total 6 columns):\n",
      " #   Column         Non-Null Count   Dtype \n",
      "---  ------         --------------   ----- \n",
      " 0   product_name   180376 non-null  object\n",
      " 1   product_price  180376 non-null  int64 \n",
      " 2   Rate           180376 non-null  int64 \n",
      " 3   Review         180376 non-null  object\n",
      " 4   Summary        180376 non-null  object\n",
      " 5   Sentiment      180376 non-null  object\n",
      "dtypes: int64(2), object(4)\n",
      "memory usage: 8.3+ MB\n"
     ]
    }
   ],
   "source": [
    "clean_data = data.dropna(axis=0).reset_index(drop = True)\n",
    "clean_data.info()"
   ]
  },
  {
   "attachments": {},
   "cell_type": "markdown",
   "metadata": {},
   "source": [
    "<p style = \"font-size:12pt\">\n",
    "✨去除分類為neutral的資料<br>\n",
    "&emsp;&ensp;因為分類為neutral的評論在資料中只佔5%，為了避免資料不平衡造成的問題，這邊直接把分類為neutral資料拿掉，專注做正負向情感分析。\n",
    "</p>"
   ]
  },
  {
   "cell_type": "code",
   "execution_count": 7,
   "metadata": {},
   "outputs": [],
   "source": [
    "drop_list = []\n",
    "index_counter = 0\n",
    "\n",
    "for label in clean_data[\"Sentiment\"]:\n",
    "  if label != \"positive\" and label != \"negative\":\n",
    "    drop_list.append(index_counter)\n",
    "  index_counter += 1"
   ]
  },
  {
   "cell_type": "code",
   "execution_count": 8,
   "metadata": {},
   "outputs": [],
   "source": [
    "clean_data = clean_data.drop(index = drop_list, axis = 0)\n",
    "clean_data = clean_data.reset_index(drop=True)"
   ]
  },
  {
   "cell_type": "code",
   "execution_count": 9,
   "metadata": {},
   "outputs": [
    {
     "name": "stdout",
     "output_type": "stream",
     "text": [
      "<class 'pandas.core.frame.DataFrame'>\n",
      "RangeIndex: 171569 entries, 0 to 171568\n",
      "Data columns (total 6 columns):\n",
      " #   Column         Non-Null Count   Dtype \n",
      "---  ------         --------------   ----- \n",
      " 0   product_name   171569 non-null  object\n",
      " 1   product_price  171569 non-null  int64 \n",
      " 2   Rate           171569 non-null  int64 \n",
      " 3   Review         171569 non-null  object\n",
      " 4   Summary        171569 non-null  object\n",
      " 5   Sentiment      171569 non-null  object\n",
      "dtypes: int64(2), object(4)\n",
      "memory usage: 7.9+ MB\n"
     ]
    }
   ],
   "source": [
    "clean_data.info()"
   ]
  },
  {
   "cell_type": "code",
   "execution_count": 10,
   "metadata": {},
   "outputs": [
    {
     "data": {
      "text/plain": [
       "positive    147169\n",
       "negative     24400\n",
       "Name: Sentiment, dtype: int64"
      ]
     },
     "execution_count": 10,
     "metadata": {},
     "output_type": "execute_result"
    }
   ],
   "source": [
    "clean_data[\"Sentiment\"].value_counts()"
   ]
  },
  {
   "attachments": {},
   "cell_type": "markdown",
   "metadata": {},
   "source": [
    "<p style = \"font-size:14pt\">\n",
    "<b>Step 2. 特徵萃取</b>\n",
    "</p>\n",
    "<p style = \"font-size:12pt\">\n",
    "✨情感分數計算<br>\n",
    "&emsp;&ensp;以下使用<code>nltk</code>中提供的<code>vader</code>套件計算每一則評論情感分數。<br>\n",
    "&emsp;&ensp;<code>vader</code>的使用不需要經過斷詞就可以操作，而且他會偵測否定詞出現與否來調整分數，基本上比我們用字典計算詞頻還要完善，可惜好像不能針對中文文本使用。\n",
    "</p>"
   ]
  },
  {
   "cell_type": "code",
   "execution_count": 11,
   "metadata": {},
   "outputs": [],
   "source": [
    "import nltk\n",
    "from nltk.sentiment.vader import SentimentIntensityAnalyzer"
   ]
  },
  {
   "attachments": {},
   "cell_type": "markdown",
   "metadata": {},
   "source": [
    "<p style = \"font-size:12pt\">\n",
    "&emsp;&ensp;輸出的結果是一個包含正向分數、負向分數、中立分數跟綜合分數的字典，如下所示：\n",
    "</p>"
   ]
  },
  {
   "cell_type": "code",
   "execution_count": 12,
   "metadata": {},
   "outputs": [
    {
     "data": {
      "text/plain": [
       "{'neg': 0.428, 'neu': 0.572, 'pos': 0.0, 'compound': -0.4585}"
      ]
     },
     "execution_count": 12,
     "metadata": {},
     "output_type": "execute_result"
    }
   ],
   "source": [
    "experiment_sentence = \"I am not happy with this.\"\n",
    "sid = SentimentIntensityAnalyzer() # 初始化工具\n",
    "score = sid.polarity_scores(experiment_sentence)\n",
    "score"
   ]
  },
  {
   "attachments": {},
   "cell_type": "markdown",
   "metadata": {},
   "source": [
    "<p style = \"font-size:12pt\">\n",
    "&emsp;&ensp;這次取用正向分數、負向分數跟綜合分數來作為特徵，分別看評論的正向情緒傾向、負向情緒傾向跟整體情緒傾向是不是都會影響到模型判斷。\n",
    "</p>"
   ]
  },
  {
   "cell_type": "code",
   "execution_count": 13,
   "metadata": {},
   "outputs": [],
   "source": [
    "positive_score = []\n",
    "negative_score = []\n",
    "sentiment_score = []\n",
    "\n",
    "for comment in clean_data[\"Summary\"]:\n",
    "    result = sid.polarity_scores(comment)\n",
    "    positive_score.append(result[\"pos\"])\n",
    "    negative_score.append(result[\"neg\"])\n",
    "    sentiment_score.append(result[\"compound\"])"
   ]
  },
  {
   "cell_type": "code",
   "execution_count": 14,
   "metadata": {},
   "outputs": [],
   "source": [
    "clean_data[\"positive_score\"] = positive_score\n",
    "clean_data[\"negative_score\"] = negative_score\n",
    "clean_data[\"sentiment_score\"] = sentiment_score"
   ]
  },
  {
   "attachments": {},
   "cell_type": "markdown",
   "metadata": {},
   "source": [
    "<p style = \"font-size:12pt\">\n",
    "✨特徵、答案分離<br>\n",
    "</p>"
   ]
  },
  {
   "cell_type": "code",
   "execution_count": 15,
   "metadata": {},
   "outputs": [
    {
     "name": "stdout",
     "output_type": "stream",
     "text": [
      "<class 'pandas.core.frame.DataFrame'>\n",
      "RangeIndex: 171569 entries, 0 to 171568\n",
      "Data columns (total 4 columns):\n",
      " #   Column           Non-Null Count   Dtype  \n",
      "---  ------           --------------   -----  \n",
      " 0   Rate             171569 non-null  int64  \n",
      " 1   positive_score   171569 non-null  float64\n",
      " 2   negative_score   171569 non-null  float64\n",
      " 3   sentiment_score  171569 non-null  float64\n",
      "dtypes: float64(3), int64(1)\n",
      "memory usage: 5.2 MB\n"
     ]
    }
   ],
   "source": [
    "features = clean_data.drop([\"product_name\", \"product_price\", \"Review\", \"Summary\", \"Sentiment\"], axis = 1) \n",
    "label = clean_data[[\"Sentiment\"]]\n",
    "features.info()"
   ]
  },
  {
   "attachments": {},
   "cell_type": "markdown",
   "metadata": {},
   "source": [
    "<p style = \"font-size:12pt\">\n",
    "✨轉換名義變項<br>\n",
    "</p>"
   ]
  },
  {
   "cell_type": "code",
   "execution_count": 16,
   "metadata": {},
   "outputs": [
    {
     "name": "stderr",
     "output_type": "stream",
     "text": [
      "C:\\Users\\c5227\\AppData\\Local\\Temp\\ipykernel_16648\\3560148433.py:3: SettingWithCopyWarning: \n",
      "A value is trying to be set on a copy of a slice from a DataFrame.\n",
      "Try using .loc[row_indexer,col_indexer] = value instead\n",
      "\n",
      "See the caveats in the documentation: https://pandas.pydata.org/pandas-docs/stable/user_guide/indexing.html#returning-a-view-versus-a-copy\n",
      "  label[\"Sentiment\"] = label[[\"Sentiment\"]].apply(LabelEncoder().fit_transform)\n"
     ]
    },
    {
     "data": {
      "text/html": [
       "<div>\n",
       "<style scoped>\n",
       "    .dataframe tbody tr th:only-of-type {\n",
       "        vertical-align: middle;\n",
       "    }\n",
       "\n",
       "    .dataframe tbody tr th {\n",
       "        vertical-align: top;\n",
       "    }\n",
       "\n",
       "    .dataframe thead th {\n",
       "        text-align: right;\n",
       "    }\n",
       "</style>\n",
       "<table border=\"1\" class=\"dataframe\">\n",
       "  <thead>\n",
       "    <tr style=\"text-align: right;\">\n",
       "      <th></th>\n",
       "      <th>Sentiment</th>\n",
       "    </tr>\n",
       "  </thead>\n",
       "  <tbody>\n",
       "    <tr>\n",
       "      <th>0</th>\n",
       "      <td>1</td>\n",
       "    </tr>\n",
       "    <tr>\n",
       "      <th>1</th>\n",
       "      <td>1</td>\n",
       "    </tr>\n",
       "    <tr>\n",
       "      <th>2</th>\n",
       "      <td>1</td>\n",
       "    </tr>\n",
       "    <tr>\n",
       "      <th>3</th>\n",
       "      <td>0</td>\n",
       "    </tr>\n",
       "    <tr>\n",
       "      <th>4</th>\n",
       "      <td>1</td>\n",
       "    </tr>\n",
       "  </tbody>\n",
       "</table>\n",
       "</div>"
      ],
      "text/plain": [
       "   Sentiment\n",
       "0          1\n",
       "1          1\n",
       "2          1\n",
       "3          0\n",
       "4          1"
      ]
     },
     "execution_count": 16,
     "metadata": {},
     "output_type": "execute_result"
    }
   ],
   "source": [
    "from sklearn.preprocessing import LabelEncoder\n",
    "label_encoder = LabelEncoder()\n",
    "label[\"Sentiment\"] = label[[\"Sentiment\"]].apply(LabelEncoder().fit_transform)\n",
    "label.head()"
   ]
  },
  {
   "attachments": {},
   "cell_type": "markdown",
   "metadata": {},
   "source": [
    "<p style = \"font-size:12pt\">\n",
    "✨區分訓練集、測試集<br>\n",
    "</p>"
   ]
  },
  {
   "cell_type": "code",
   "execution_count": 17,
   "metadata": {},
   "outputs": [],
   "source": [
    "from sklearn.model_selection import train_test_split\n",
    "feature_train, feature_test, label_train, label_test = train_test_split(features, label, test_size = 0.2, random_state = 100)"
   ]
  },
  {
   "attachments": {},
   "cell_type": "markdown",
   "metadata": {},
   "source": [
    "<p style = \"font-size:14pt\">\n",
    "<b>Step 3. 模型訓練</b>\n",
    "</p>\n",
    "<p style = \"font-size:12pt\">\n",
    "✨單純Naive Bayes訓練<br>\n",
    "&emsp;&ensp;因為特徵都是數值資料，所以選用高斯分布的Naive Bayes套件來訓練模型。\n",
    "</p>"
   ]
  },
  {
   "cell_type": "code",
   "execution_count": 18,
   "metadata": {},
   "outputs": [],
   "source": [
    "from sklearn.naive_bayes import GaussianNB\n",
    "import numpy as np\n",
    "model = GaussianNB()\n",
    "raw_NB = model.fit(feature_train, np.ravel(label_train))"
   ]
  },
  {
   "attachments": {},
   "cell_type": "markdown",
   "metadata": {},
   "source": [
    "<p style = \"font-size:14pt\">\n",
    "<b>Step 4. 結果評估</b>\n",
    "</p>\n",
    "<p style = \"font-size:12pt\">\n",
    "✨單純Naive Bayes預測<br>\n",
    "</p>"
   ]
  },
  {
   "cell_type": "code",
   "execution_count": 19,
   "metadata": {},
   "outputs": [],
   "source": [
    "NB_prediction = raw_NB.predict(feature_test)"
   ]
  },
  {
   "cell_type": "code",
   "execution_count": 20,
   "metadata": {},
   "outputs": [],
   "source": [
    "from sklearn.metrics import confusion_matrix, ConfusionMatrixDisplay, precision_recall_fscore_support, accuracy_score\n",
    "\n",
    "# 寫成function之後比較好用\n",
    "\n",
    "def model_metrics(prediction, label): # 定義一個新功能叫做model_metrics，裡面需要prediction跟label兩個參數。然後作下面這然後做下面這些事情\n",
    "    \n",
    "    print(ConfusionMatrixDisplay.from_predictions(label, prediction, cmap = \"Wistia\")) # 印出混淆矩陣\n",
    "    evaluation = precision_recall_fscore_support(label, prediction, average='micro') # 計算precision, recall, F-score\n",
    "    accuracy = accuracy_score(label, prediction) # 計算accuracy\n",
    "\n",
    "    # 印出評估結果\n",
    "    print(\"accuracy: \" + str(round(accuracy, 2)) + \"\\nprecision: \" + str(round(evaluation[0], 2)) + \"\\nrecall: \" + str(round(evaluation[1], 2)) + \"\\nfscore: \" + str(round(evaluation[2],2)))"
   ]
  },
  {
   "cell_type": "code",
   "execution_count": 21,
   "metadata": {},
   "outputs": [
    {
     "name": "stdout",
     "output_type": "stream",
     "text": [
      "<sklearn.metrics._plot.confusion_matrix.ConfusionMatrixDisplay object at 0x0000026A476B0040>\n",
      "accuracy: 0.98\n",
      "precision: 0.98\n",
      "recall: 0.98\n",
      "fscore: 0.98\n"
     ]
    },
    {
     "data": {
      "image/png": "[encoded data removed]",
      "text/plain": [
       "<Figure size 640x480 with 2 Axes>"
      ]
     },
     "metadata": {},
     "output_type": "display_data"
    }
   ],
   "source": [
    "model_metrics(NB_prediction, label_test)"
   ]
  },
  {
   "attachments": {},
   "cell_type": "markdown",
   "metadata": {},
   "source": [
    "<p style = \"font-size:12pt\">\n",
    "✨10-fold Cross Validation<br>\n",
    "</p>"
   ]
  },
  {
   "cell_type": "code",
   "execution_count": 22,
   "metadata": {},
   "outputs": [
    {
     "name": "stdout",
     "output_type": "stream",
     "text": [
      "[0.98236923 0.97916363 0.98083928 0.98236923 0.98164068 0.98251366\n",
      " 0.98025501 0.9779235  0.97923497 0.9820765 ]\n",
      "平均值：0.9808385691654014\n"
     ]
    }
   ],
   "source": [
    "from sklearn.model_selection import cross_val_score\n",
    "\n",
    "print(cross_val_score(model, feature_train, np.ravel(label_train), cv=10, scoring='f1_micro'))\n",
    "print(\"平均值：\"+str(np.mean(cross_val_score(model, feature_train, np.ravel(label_train), cv=10, scoring='f1_micro'))))"
   ]
  },
  {
   "attachments": {},
   "cell_type": "markdown",
   "metadata": {},
   "source": [
    "<p style = \"font-size:12pt\">\n",
    "✨Bootstrapping<br>\n",
    "</p>"
   ]
  },
  {
   "cell_type": "code",
   "execution_count": 71,
   "metadata": {},
   "outputs": [
    {
     "data": {
      "text/plain": [
       "0.0058285248003730255"
      ]
     },
     "execution_count": 71,
     "metadata": {},
     "output_type": "execute_result"
    }
   ],
   "source": [
    "200/len(feature_test)"
   ]
  },
  {
   "attachments": {},
   "cell_type": "markdown",
   "metadata": {},
   "source": [
    "<p style = \"font-size:12pt\">\n",
    "&emsp;&ensp;從上面的數字可以看出bootstrapping的起始比例應該至少是testset的0.06<br>\n",
    "&emsp;&ensp;為了計算方便，這裡將起始比例設為0.103，每次往上增加0.03。這樣做完300次就會剛好是1<br>\n",
    "&emsp;&ensp;0.103+0.03*299=1\n",
    "</p>"
   ]
  },
  {
   "cell_type": "code",
   "execution_count": 72,
   "metadata": {},
   "outputs": [],
   "source": [
    "%matplotlib inline\n",
    "import seaborn as sns\n",
    "import matplotlib.pyplot as plt\n",
    "import random"
   ]
  },
  {
   "cell_type": "code",
   "execution_count": 69,
   "metadata": {},
   "outputs": [
    {
     "name": "stdout",
     "output_type": "stream",
     "text": [
      "平均f-score：0.982424832298478\n"
     ]
    },
    {
     "data": {
      "text/plain": [
       "<AxesSubplot:xlabel='sample', ylabel='f-score'>"
      ]
     },
     "execution_count": 69,
     "metadata": {},
     "output_type": "execute_result"
    },
    {
     "data": {
      "image/png": "[encoded data removed]",
      "text/plain": [
       "<Figure size 640x480 with 1 Axes>"
      ]
     },
     "metadata": {},
     "output_type": "display_data"
    }
   ],
   "source": [
    "data_list = []\n",
    "score = []\n",
    "for iteration in range(300):\n",
    "        seed = random.randint(1,1000)\n",
    "        fraction = iteration*0.003+0.103\n",
    "        feature_bs = feature_test.sample(frac = fraction, random_state = seed)\n",
    "        label_bs = label_test.sample(frac = fraction, random_state = seed)\n",
    "        prediction = model.predict(feature_bs)\n",
    "        fscore = precision_recall_fscore_support(label_bs, prediction, average='micro')[2]\n",
    "        score.append(fscore)\n",
    "        data_list.append([fraction, fscore])\n",
    "print(\"平均f-score：\" + str(np.mean(score)))\n",
    "\n",
    "#畫圖\n",
    "data = pd.DataFrame(data_list, columns = [\"sample\", \"f-score\"])\n",
    "\n",
    "sns.lineplot(\n",
    "data=data, x=\"sample\", y=\"f-score\")"
   ]
  },
  {
   "attachments": {},
   "cell_type": "markdown",
   "metadata": {},
   "source": [
    "<p style=\"font-size:12pt\">\n",
    "&emsp;&ensp;乍看之下這張圖似乎沒有達到收斂，呈現不穩定的起伏，但仔細看y軸的部分會發現他只畫出0.978~0.985的區間。因此我們可以把y軸的範圍重新調成0~1。\n",
    "</p>"
   ]
  },
  {
   "cell_type": "code",
   "execution_count": 68,
   "metadata": {},
   "outputs": [
    {
     "data": {
      "text/plain": [
       "(0.0, 1.0)"
      ]
     },
     "execution_count": 68,
     "metadata": {},
     "output_type": "execute_result"
    },
    {
     "data": {
      "image/png": "[encoded data removed]",
      "text/plain": [
       "<Figure size 640x480 with 1 Axes>"
      ]
     },
     "metadata": {},
     "output_type": "display_data"
    }
   ],
   "source": [
    "sns.lineplot(\n",
    "data=data, x=\"sample\", y=\"f-score\").set_ylim(0,1)"
   ]
  },
  {
   "attachments": {},
   "cell_type": "markdown",
   "metadata": {},
   "source": [
    "<p align = \"center\", style = \"font-size:16pt\">\n",
    "    🧐<b>討論</b>🧐<br>\n",
    "</p>\n",
    "<p style = \"font-size:12pt\">\n",
    "   從cv跟bootstrapping的結果可以看到，他們都跟單純使用Naive Bayes直接以test set評估的結果差不多（f-score落在0.98左右）。尤其是從上圖可以發現，從我們第一次取樣的時候，f-score就已經是收斂的狀態了。會這樣可能是因為bootstrapping跟cv的使用大部分是為了應對資料量太小的問題。而我這次使用的資料共171569筆，所以即便是在兩個類別分配極度不均的情況下，模型的表現還是維持在一定的程度。（當然也有<code>nltk</code>套件寫得好的功勞）這個部分也可以從同樣達到0.98的recall跟precision得到驗證。\n",
    "</p>\n"
   ]
  }
 ],
 "metadata": {
  "kernelspec": {
   "display_name": "base",
   "language": "python",
   "name": "python3"
  },
  "language_info": {
   "codemirror_mode": {
    "name": "ipython",
    "version": 3
   },
   "file_extension": ".py",
   "mimetype": "text/x-python",
   "name": "python",
   "nbconvert_exporter": "python",
   "pygments_lexer": "ipython3",
   "version": "3.9.13"
  },
  "orig_nbformat": 4
 },
 "nbformat": 4,
 "nbformat_minor": 2
}
