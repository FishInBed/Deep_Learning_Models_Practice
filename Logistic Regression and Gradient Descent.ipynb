{
 "cells": [
  {
   "attachments": {},
   "cell_type": "markdown",
   "metadata": {},
   "source": [
    "**余盈蓓；語碩二；110555009**\\\n",
    "**111-2 Computational Linguistics**\n",
    "<p align=\"center\", style = \"font-size:18pt\">\n",
    "<b>3rd Assignment<br>\n",
    "Logistic Regression and Gradient Descent</b>\n",
    "</p>"
   ]
  },
  {
   "attachments": {},
   "cell_type": "markdown",
   "metadata": {},
   "source": [
    "<p align=\"center\">\n",
    "以下將使用從<a href = \"https://www.kaggle.com/datasets/kreeshrajani/human-stress-prediction\" target=\"_blank\">Kaggle</a>取得的<a href = \"https://www.reddit.com/\" target = \"_blank\">Reddit</a>上的貼文以情感分析做壓力偵測。<br>\n",
    "<br>"
   ]
  },
  {
   "attachments": {},
   "cell_type": "markdown",
   "metadata": {},
   "source": [
    "<p style = \"font-size:14pt\">\n",
    "<b>Step 1. 資料前處理</b>\n",
    "</p>\n",
    "<p style = \"font-size:12pt\">\n",
    "✨資料讀入\n",
    "</p>"
   ]
  },
  {
   "cell_type": "code",
   "execution_count": 1,
   "metadata": {},
   "outputs": [],
   "source": [
    "import pandas as pd\n",
    "\n",
    "data = pd.read_csv(\"Stress.csv\")"
   ]
  },
  {
   "cell_type": "code",
   "execution_count": 2,
   "metadata": {},
   "outputs": [
    {
     "data": {
      "text/html": [
       "<div>\n",
       "<style scoped>\n",
       "    .dataframe tbody tr th:only-of-type {\n",
       "        vertical-align: middle;\n",
       "    }\n",
       "\n",
       "    .dataframe tbody tr th {\n",
       "        vertical-align: top;\n",
       "    }\n",
       "\n",
       "    .dataframe thead th {\n",
       "        text-align: right;\n",
       "    }\n",
       "</style>\n",
       "<table border=\"1\" class=\"dataframe\">\n",
       "  <thead>\n",
       "    <tr style=\"text-align: right;\">\n",
       "      <th></th>\n",
       "      <th>subreddit</th>\n",
       "      <th>post_id</th>\n",
       "      <th>sentence_range</th>\n",
       "      <th>text</th>\n",
       "      <th>label</th>\n",
       "      <th>confidence</th>\n",
       "      <th>social_timestamp</th>\n",
       "    </tr>\n",
       "  </thead>\n",
       "  <tbody>\n",
       "    <tr>\n",
       "      <th>0</th>\n",
       "      <td>ptsd</td>\n",
       "      <td>8601tu</td>\n",
       "      <td>(15, 20)</td>\n",
       "      <td>He said he had not felt that way before, sugge...</td>\n",
       "      <td>1</td>\n",
       "      <td>0.8</td>\n",
       "      <td>1521614353</td>\n",
       "    </tr>\n",
       "    <tr>\n",
       "      <th>1</th>\n",
       "      <td>assistance</td>\n",
       "      <td>8lbrx9</td>\n",
       "      <td>(0, 5)</td>\n",
       "      <td>Hey there r/assistance, Not sure if this is th...</td>\n",
       "      <td>0</td>\n",
       "      <td>1.0</td>\n",
       "      <td>1527009817</td>\n",
       "    </tr>\n",
       "    <tr>\n",
       "      <th>2</th>\n",
       "      <td>ptsd</td>\n",
       "      <td>9ch1zh</td>\n",
       "      <td>(15, 20)</td>\n",
       "      <td>My mom then hit me with the newspaper and it s...</td>\n",
       "      <td>1</td>\n",
       "      <td>0.8</td>\n",
       "      <td>1535935605</td>\n",
       "    </tr>\n",
       "    <tr>\n",
       "      <th>3</th>\n",
       "      <td>relationships</td>\n",
       "      <td>7rorpp</td>\n",
       "      <td>[5, 10]</td>\n",
       "      <td>until i met my new boyfriend, he is amazing, h...</td>\n",
       "      <td>1</td>\n",
       "      <td>0.6</td>\n",
       "      <td>1516429555</td>\n",
       "    </tr>\n",
       "    <tr>\n",
       "      <th>4</th>\n",
       "      <td>survivorsofabuse</td>\n",
       "      <td>9p2gbc</td>\n",
       "      <td>[0, 5]</td>\n",
       "      <td>October is Domestic Violence Awareness Month a...</td>\n",
       "      <td>1</td>\n",
       "      <td>0.8</td>\n",
       "      <td>1539809005</td>\n",
       "    </tr>\n",
       "  </tbody>\n",
       "</table>\n",
       "</div>"
      ],
      "text/plain": [
       "          subreddit post_id sentence_range  \\\n",
       "0              ptsd  8601tu       (15, 20)   \n",
       "1        assistance  8lbrx9         (0, 5)   \n",
       "2              ptsd  9ch1zh       (15, 20)   \n",
       "3     relationships  7rorpp        [5, 10]   \n",
       "4  survivorsofabuse  9p2gbc         [0, 5]   \n",
       "\n",
       "                                                text  label  confidence  \\\n",
       "0  He said he had not felt that way before, sugge...      1         0.8   \n",
       "1  Hey there r/assistance, Not sure if this is th...      0         1.0   \n",
       "2  My mom then hit me with the newspaper and it s...      1         0.8   \n",
       "3  until i met my new boyfriend, he is amazing, h...      1         0.6   \n",
       "4  October is Domestic Violence Awareness Month a...      1         0.8   \n",
       "\n",
       "   social_timestamp  \n",
       "0        1521614353  \n",
       "1        1527009817  \n",
       "2        1535935605  \n",
       "3        1516429555  \n",
       "4        1539809005  "
      ]
     },
     "execution_count": 2,
     "metadata": {},
     "output_type": "execute_result"
    }
   ],
   "source": [
    "data.head()"
   ]
  },
  {
   "cell_type": "code",
   "execution_count": 3,
   "metadata": {},
   "outputs": [
    {
     "name": "stdout",
     "output_type": "stream",
     "text": [
      "<class 'pandas.core.frame.DataFrame'>\n",
      "RangeIndex: 2838 entries, 0 to 2837\n",
      "Data columns (total 7 columns):\n",
      " #   Column            Non-Null Count  Dtype  \n",
      "---  ------            --------------  -----  \n",
      " 0   subreddit         2838 non-null   object \n",
      " 1   post_id           2838 non-null   object \n",
      " 2   sentence_range    2838 non-null   object \n",
      " 3   text              2838 non-null   object \n",
      " 4   label             2838 non-null   int64  \n",
      " 5   confidence        2838 non-null   float64\n",
      " 6   social_timestamp  2838 non-null   int64  \n",
      "dtypes: float64(1), int64(2), object(4)\n",
      "memory usage: 155.3+ KB\n"
     ]
    }
   ],
   "source": [
    "data.info()"
   ]
  },
  {
   "attachments": {},
   "cell_type": "markdown",
   "metadata": {},
   "source": [
    "<p style = \"font-size:12pt\">\n",
    "✨資料簡述<br>\n",
    "&emsp;&ensp;該dataset中包含下列七個column：<br>\n",
    "&emsp;&ensp;🎲 Reddit看板<br>\n",
    "&emsp;&ensp;🎲 文章id<br>\n",
    "&emsp;&ensp;🎲 句子index：檔案描述只提到是句子的index，但沒說是什麼句子在哪裡的index。<br>\n",
    "&emsp;&ensp;🎲 po文內容<br>\n",
    "&emsp;&ensp;🎲 標記：po文者是否感受到壓力<br>\n",
    "&emsp;&ensp;🎲 自信程度：發文者的自信程度（未提及如何計算）<br>\n",
    "&emsp;&ensp;🎲 發文時間 <br>\n",
    "</p>"
   ]
  },
  {
   "cell_type": "code",
   "execution_count": 4,
   "metadata": {},
   "outputs": [
    {
     "data": {
      "text/plain": [
       "1    1488\n",
       "0    1350\n",
       "Name: label, dtype: int64"
      ]
     },
     "execution_count": 4,
     "metadata": {},
     "output_type": "execute_result"
    }
   ],
   "source": [
    "data[\"label\"].value_counts()"
   ]
  },
  {
   "attachments": {},
   "cell_type": "markdown",
   "metadata": {},
   "source": [
    "<p style = \"font-size:14pt\">\n",
    "<b>Step 2. 特徵萃取</b>\n",
    "</p>\n",
    "<p style = \"font-size:12pt\">\n",
    "✨情感分數計算<br>\n",
    "&emsp;&ensp;以下使用<code>nltk</code>中提供的<code>vader</code>套件計算每一則評論情感分數。<br>\n",
    "</p>"
   ]
  },
  {
   "cell_type": "code",
   "execution_count": 5,
   "metadata": {},
   "outputs": [],
   "source": [
    "from nltk.sentiment.vader import SentimentIntensityAnalyzer"
   ]
  },
  {
   "attachments": {},
   "cell_type": "markdown",
   "metadata": {},
   "source": [
    "<p style = \"font-size:12pt\">\n",
    "&emsp;&ensp;取用正向分數、負向分數跟綜合分數來作為特徵，分別看評論的正向情緒傾向、負向情緒傾向、中立情緒分數跟整體情緒傾向是不是都會影響到模型判斷。\n",
    "</p>"
   ]
  },
  {
   "cell_type": "code",
   "execution_count": 6,
   "metadata": {},
   "outputs": [],
   "source": [
    "sid = SentimentIntensityAnalyzer() # 初始化工具\n",
    "positive_score = []\n",
    "negative_score = []\n",
    "neutral_score = []\n",
    "sentiment_score = []\n",
    "\n",
    "for comment in data[\"text\"]:\n",
    "    result = sid.polarity_scores(comment)\n",
    "    positive_score.append(result[\"pos\"])\n",
    "    negative_score.append(result[\"neg\"])\n",
    "    neutral_score.append(result[\"neu\"])\n",
    "    sentiment_score.append(result[\"compound\"])"
   ]
  },
  {
   "cell_type": "code",
   "execution_count": 7,
   "metadata": {},
   "outputs": [],
   "source": [
    "data[\"positive_score\"] = positive_score\n",
    "data[\"negative_score\"] = negative_score\n",
    "data[\"neutral_score\"] = neutral_score\n",
    "data[\"sentiment_score\"] = sentiment_score"
   ]
  },
  {
   "attachments": {},
   "cell_type": "markdown",
   "metadata": {},
   "source": [
    "<p style = \"font-size:12pt\">\n",
    "✨資料排序洗牌<br>\n",
    "</p>"
   ]
  },
  {
   "cell_type": "code",
   "execution_count": 8,
   "metadata": {},
   "outputs": [],
   "source": [
    "shuffled_data = data.sample(frac = 1, random_state=168).reset_index(drop=True)"
   ]
  },
  {
   "attachments": {},
   "cell_type": "markdown",
   "metadata": {},
   "source": [
    "<p style = \"font-size:12pt\">\n",
    "✨特徵、答案分離<br>\n",
    "</p>"
   ]
  },
  {
   "cell_type": "code",
   "execution_count": 9,
   "metadata": {},
   "outputs": [
    {
     "name": "stdout",
     "output_type": "stream",
     "text": [
      "<class 'pandas.core.frame.DataFrame'>\n",
      "RangeIndex: 2838 entries, 0 to 2837\n",
      "Data columns (total 4 columns):\n",
      " #   Column           Non-Null Count  Dtype  \n",
      "---  ------           --------------  -----  \n",
      " 0   positive_score   2838 non-null   float64\n",
      " 1   negative_score   2838 non-null   float64\n",
      " 2   neutral_score    2838 non-null   float64\n",
      " 3   sentiment_score  2838 non-null   float64\n",
      "dtypes: float64(4)\n",
      "memory usage: 88.8 KB\n"
     ]
    }
   ],
   "source": [
    "features = shuffled_data.loc[: , (\"positive_score\", \"negative_score\", \"neutral_score\", \"sentiment_score\")]\n",
    "label = shuffled_data[[\"label\"]]\n",
    "features.info()"
   ]
  },
  {
   "attachments": {},
   "cell_type": "markdown",
   "metadata": {},
   "source": [
    "<p style = \"font-size:12pt\">\n",
    "✨區分訓練集、測試集<br>\n",
    "</p>"
   ]
  },
  {
   "cell_type": "code",
   "execution_count": 10,
   "metadata": {},
   "outputs": [],
   "source": [
    "from sklearn.model_selection import train_test_split\n",
    "feature_train, feature_test, label_train, label_test = train_test_split(features, label, test_size = 0.2, random_state = 100)"
   ]
  },
  {
   "cell_type": "code",
   "execution_count": 11,
   "metadata": {},
   "outputs": [
    {
     "name": "stdout",
     "output_type": "stream",
     "text": [
      "training set 資料筆數：2270\n",
      "test set 資料筆數：568\n"
     ]
    }
   ],
   "source": [
    "print(\"training set 資料筆數：\"+ str(len(feature_train)))\n",
    "print(\"test set 資料筆數：\"+ str(len(feature_test)))"
   ]
  },
  {
   "attachments": {},
   "cell_type": "markdown",
   "metadata": {},
   "source": [
    "<p style = \"font-size:14pt\">\n",
    "<b>Step 3. 模型訓練</b>\n",
    "</p>\n",
    "<p style = \"font-size:12pt\">\n",
    "✨<font color=\"#004B97\"><b>Default Logistic Regression 模型</b></font><br>\n",
    "&emsp;&ensp;🪐 <code>penalty</code>: l2<br>\n",
    "&emsp;&ensp;🪐 <code>solver</code> (模型運用的演算法): lbfgs<br>\n",
    "</p>"
   ]
  },
  {
   "cell_type": "code",
   "execution_count": 12,
   "metadata": {},
   "outputs": [],
   "source": [
    "from sklearn.linear_model import LogisticRegression\n",
    "import numpy as np\n",
    "\n",
    "default_model = LogisticRegression()\n",
    "default_LR = default_model.fit(feature_train, np.ravel(label_train))\n",
    "\n",
    "prediction_default = default_LR.predict(feature_test)"
   ]
  },
  {
   "attachments": {},
   "cell_type": "markdown",
   "metadata": {},
   "source": [
    "<p style = \"font-size:12pt\">\n",
    "以下會嘗試比較演算法跟penalty方式的不同對訓練結果造成的影響。<br>\n",
    "雖然演算法如下所示有許多選項，但因為本次使用的dataset較小，因此決定選擇同樣適用於小資料的<code>liblinear</code>來與default值的<code>lbfgs</code>比較\n",
    "</p>\n",
    "<table style=\"font-size:14px\">\n",
    "  <tr>\n",
    "    <td style = \"background-color: #F1E1FF\" ><b>演算法</b></td>\n",
    "    <td style = \"background-color: #F1E1FF\" ><b>特色</b></td>\n",
    "    <td style = \"background-color: #F1E1FF\" ><b>可配合之penalty</b></td>\n",
    "  </tr>\n",
    "  <tr>\n",
    "    <td><code>lbfgs</code></td>\n",
    "    <td>適用於multiclass的分類任務<br>適合用在少量資料的分類任務</td>\n",
    "    <td><code>l2</code> / <code>none</code></th>\n",
    "  </tr>\n",
    "  <tr>\n",
    "    <td><code>liblinear</code></td>\n",
    "    <td>用在少量資料比較有效率<br>只能one-versus-rest<br>適合用在分類很多的任務</td>\n",
    "    <td><code>l1</code> / <code>l2</code></td>\n",
    "  </tr>\n",
    "  <tr>\n",
    "    <td><code>newton-cg</code></td>\n",
    "    <td>適用於multiclass的分類任務</td>\n",
    "    <td><code>l2</code> / <code>none</code></td>\n",
    "  </tr>\n",
    "  <tr>\n",
    "    <td><code>newton-cholesky</code></td>\n",
    "    <td>只能one-versus-rest</td>\n",
    "    <td><code>l2</code> / <code>none</code></td>\n",
    "  </tr>\n",
    "  <tr>\n",
    "    <td><code>sag</code></td>\n",
    "    <td>用在大量資料比較有效率<br>適用於multiclass的分類任務</td>\n",
    "    <td><code>l2</code> / <code>none</code></td>\n",
    "  </tr>\n",
    "  <tr>\n",
    "    <td><code>saga</code></td>\n",
    "    <td>用在大量資料比較有效率<br>適用於multiclass的分類任務</td>\n",
    "    <td><code>elasticnet</code> / <code>l1</code> / <code>l2</code> / <code>none</code></td>\n",
    "  </tr>\n",
    "</table>\n",
    "<p style = \"font-size:12pt\">\n",
    "註：雖然下面不會用到，但使用<code>elasticnet</code>的話會同時給<code>l1</code>跟<code>l2</code> penalty\n",
    "</p>"
   ]
  },
  {
   "attachments": {},
   "cell_type": "markdown",
   "metadata": {},
   "source": [
    "<p style = \"font-size:12pt\">\n",
    "✨<font color=\"#004B97\"><b>調過參數的 Logistic Regression 模型<br>\n",
    "&emsp;&ensp;(1)\n",
    "</b></font><br>\n",
    "&emsp;&ensp;&ensp;🪐 <code>penalty</code>: none<br>\n",
    "&emsp;&ensp;&ensp;🪐 <code>solver</code>: lbfgs<br>\n",
    "<br>\n",
    "</p>"
   ]
  },
  {
   "cell_type": "code",
   "execution_count": 14,
   "metadata": {},
   "outputs": [],
   "source": [
    "lbfgs_none_model = LogisticRegression(penalty=\"none\", solver=\"lbfgs\")\n",
    "lbfgs_none_LR = lbfgs_none_model.fit(feature_train, np.ravel(label_train))\n",
    "\n",
    "prediction_lbfgs_none = lbfgs_none_LR.predict(feature_test)"
   ]
  },
  {
   "attachments": {},
   "cell_type": "markdown",
   "metadata": {},
   "source": [
    "<p style = \"font-size:12pt\">\n",
    "<font color=\"#004B97\">\n",
    "&emsp;&ensp;<b>(2)\n",
    "</b></font><br>\n",
    "&emsp;&ensp;&ensp;🪐 <code>penalty</code>: l1<br>\n",
    "&emsp;&ensp;&ensp;🪐 <code>solver</code>: liblinear<br>\n",
    "&emsp;&ensp;&ensp;🪐 <code>random_state</code>: 168<br>\n",
    "</p>"
   ]
  },
  {
   "cell_type": "code",
   "execution_count": 15,
   "metadata": {},
   "outputs": [],
   "source": [
    "liblinear_l1_model = LogisticRegression(penalty=\"l1\", solver=\"liblinear\", random_state=168)\n",
    "liblinear_l1_LR = liblinear_l1_model.fit(feature_train, np.ravel(label_train))\n",
    "\n",
    "prediction_liblinear_l1 = liblinear_l1_LR.predict(feature_test)"
   ]
  },
  {
   "attachments": {},
   "cell_type": "markdown",
   "metadata": {},
   "source": [
    "<p style = \"font-size:12pt\">\n",
    "<font color=\"#004B97\">\n",
    "&emsp;&ensp;<b>(3)\n",
    "</b></font><br>\n",
    "&emsp;&ensp;&ensp;🪐 <code>penalty</code>: l2<br>\n",
    "&emsp;&ensp;&ensp;🪐 <code>solver</code>: liblinear<br>\n",
    "&emsp;&ensp;&ensp;🪐 <code>random_state</code>: 168<br>\n",
    "</p>"
   ]
  },
  {
   "cell_type": "code",
   "execution_count": 16,
   "metadata": {},
   "outputs": [],
   "source": [
    "liblinear_l2_model = LogisticRegression(penalty=\"l2\", solver=\"liblinear\", random_state=168)\n",
    "liblinear_l2_LR = liblinear_l2_model.fit(feature_train, np.ravel(label_train))\n",
    "\n",
    "prediction_liblinear_l2 = liblinear_l2_LR.predict(feature_test)"
   ]
  },
  {
   "attachments": {},
   "cell_type": "markdown",
   "metadata": {},
   "source": [
    "<p style = \"font-size:12pt\">\n",
    "✨<font color=\"#004B97\"><b>未使用 mini-batches 的 SGD Logistic Regression 模型<br><br>\n",
    "&emsp;&ensp;(1) \n",
    "</b></font><br>\n",
    "&emsp;&ensp;&ensp;🪐 <code>loss</code> (loss function 種類): log (因為訓練的是LR模型，所以必須調整成<code>log</code>)<br>\n",
    "&emsp;&ensp;&ensp;🪐 <code>learning_rate</code>: optimal<br>\n",
    "&emsp;&ensp;&ensp;🪐 <code>max_iter</code>: 500<br>\n",
    "&emsp;&ensp;&ensp;🪐 <code>eta0</code>: 0.1<br>\n",
    "&emsp;&ensp;&ensp;🪐 <code>random_state</code>: 168 (因為<code>shuffle</code>的default值是<code>True</code>，所以需要設定種子確保不同模型都是同樣的取樣結果以比較參數差異)<br>\n",
    "</p>"
   ]
  },
  {
   "cell_type": "code",
   "execution_count": 20,
   "metadata": {},
   "outputs": [],
   "source": [
    "from sklearn.linear_model import SGDClassifier\n",
    "\n",
    "SGD_optimal = SGDClassifier(loss=\"log\", learning_rate=\"optimal\", max_iter=500, eta0=0.1, random_state=168).fit(feature_train, np.ravel(label_train))\n",
    "\n",
    "prediction_SGD_optimal = SGD_optimal.predict(feature_test)"
   ]
  },
  {
   "attachments": {},
   "cell_type": "markdown",
   "metadata": {},
   "source": [
    "<p style = \"font-size:12pt\">\n",
    "<font color=\"#004B97\"><b>&emsp;&ensp;(2) </b></font><br>\n",
    "&emsp;&ensp;&ensp;🪐 <code>loss</code> (loss function 種類): log<br>\n",
    "&emsp;&ensp;&ensp;🪐 <code>learning_rate</code>: constant<br>\n",
    "&emsp;&ensp;&ensp;🪐 <code>max_iter</code>: 500<br>\n",
    "&emsp;&ensp;&ensp;🪐 <code>eta0</code>: 0.1<br>\n",
    "&emsp;&ensp;&ensp;🪐 <code>random_state</code>: 168<br>\n",
    "</p>"
   ]
  },
  {
   "cell_type": "code",
   "execution_count": 21,
   "metadata": {},
   "outputs": [],
   "source": [
    "SGD_constant = SGDClassifier(loss=\"log\", learning_rate=\"constant\", max_iter=500, eta0=0.1, random_state=168).fit(feature_train, np.ravel(label_train))\n",
    "\n",
    "prediction_SGD_constant = SGD_constant.predict(feature_test)"
   ]
  },
  {
   "attachments": {},
   "cell_type": "markdown",
   "metadata": {},
   "source": [
    "<p style = \"font-size:12pt\">\n",
    "<font color=\"#004B97\"><b>&emsp;&ensp;(3) </b></font><br>\n",
    "&emsp;&ensp;&ensp;🪐 <code>loss</code> (loss function 種類): log<br>\n",
    "&emsp;&ensp;&ensp;🪐 <code>learning_rate</code>: invscaling<br>\n",
    "&emsp;&ensp;&ensp;🪐 <code>max_iter</code>: 500<br>\n",
    "&emsp;&ensp;&ensp;🪐 <code>eta0</code>: 0.1<br>\n",
    "&emsp;&ensp;&ensp;🪐 <code>random_state</code>: 168<br>\n",
    "</p>"
   ]
  },
  {
   "cell_type": "code",
   "execution_count": 22,
   "metadata": {},
   "outputs": [],
   "source": [
    "SGD_invscaling = SGDClassifier(loss=\"log\", learning_rate=\"invscaling\", max_iter=500, eta0=0.1, random_state=168).fit(feature_train, np.ravel(label_train))\n",
    "\n",
    "prediction_SGD_invscaling = SGD_invscaling.predict(feature_test)"
   ]
  },
  {
   "attachments": {},
   "cell_type": "markdown",
   "metadata": {},
   "source": [
    "<p style = \"font-size:12pt\">\n",
    "✨<font color=\"#004B97\"><b>使用 mini-batch 的 SGD Logistic Regression 模型</b></font><br><br>\n",
    "&emsp;&ensp;將mini-batch size設定為227，並依序抽取10次來訓練模型。因為在切分訓練集跟測試集時資料已經打散，這裡就直接按照順序取出。\n",
    "</p>"
   ]
  },
  {
   "cell_type": "code",
   "execution_count": 34,
   "metadata": {},
   "outputs": [
    {
     "data": {
      "text/plain": [
       "(0.0, 1.0)"
      ]
     },
     "execution_count": 34,
     "metadata": {},
     "output_type": "execute_result"
    },
    {
     "data": {
      "image/png": "[encoded data removed]",
      "text/plain": [
       "<Figure size 640x480 with 1 Axes>"
      ]
     },
     "metadata": {},
     "output_type": "display_data"
    }
   ],
   "source": [
    "%matplotlib inline\n",
    "import seaborn as sns\n",
    "import matplotlib.pyplot as plt\n",
    "\n",
    "SGD_raw = SGDClassifier(random_state=70)\n",
    "mini_batch = 227\n",
    "epoch = 10\n",
    "train_score = []\n",
    "\n",
    "for i in range(epoch):\n",
    "    feature_batch = feature_train.iloc[i * mini_batch : (i + 1) * mini_batch,]\n",
    "    label_batch = label_train.iloc[i * mini_batch : (i + 1) * mini_batch,]\n",
    "    if i>0:\n",
    "        SGD_raw.partial_fit(feature_batch, np.ravel(label_batch))\n",
    "        train_score.append([i+1, SGD_raw.score(feature_batch, label_batch)])\n",
    "    else:\n",
    "        SGD_raw.partial_fit(feature_batch, np.ravel(label_batch), classes=range(2))\n",
    "        train_score.append([i+1, SGD_raw.score(feature_batch, label_batch)])\n",
    "\n",
    "batch_data = pd.DataFrame(train_score, columns = [\"batch\", \"accuracy\"])\n",
    "\n",
    "sns.lineplot(\n",
    "data=batch_data, x=\"batch\", y=\"accuracy\").set_ylim(0,1)"
   ]
  },
  {
   "cell_type": "code",
   "execution_count": 24,
   "metadata": {},
   "outputs": [],
   "source": [
    "prediction_batch = SGD_raw.predict(feature_test)"
   ]
  },
  {
   "attachments": {},
   "cell_type": "markdown",
   "metadata": {},
   "source": [
    "<p style = \"font-size:14pt\">\n",
    "<b>Step 4. 結果評估</b>\n",
    "</p>\n",
    "<p style = \"font-size:12pt\">\n",
    "因為這邊想要評估的是模型的整體表現，所以用macro average的方式做。\n",
    "</p>"
   ]
  },
  {
   "cell_type": "code",
   "execution_count": 25,
   "metadata": {},
   "outputs": [],
   "source": [
    "from sklearn.metrics import precision_recall_fscore_support, accuracy_score\n",
    "\n",
    "# 寫成function之後比較好用\n",
    "\n",
    "def model_metrics(prediction, label): # 定義一個新功能叫做model_metrics，裡面需要prediction跟label兩個參數。然後作下面這然後做下面這些事情    \n",
    "    evaluation = precision_recall_fscore_support(label, prediction, average='macro') # 計算precision, recall, F-score\n",
    "    accuracy = accuracy_score(label, prediction) # 計算accuracy\n",
    "\n",
    "    # 印出評估結果\n",
    "    print(\"accuracy: \" + str(round(accuracy, 2)) + \"\\nprecision: \" + str(round(evaluation[0], 2)) + \"\\nrecall: \" + str(round(evaluation[1], 2)) + \"\\nfscore: \" + str(round(evaluation[2],2)))"
   ]
  },
  {
   "attachments": {},
   "cell_type": "markdown",
   "metadata": {},
   "source": [
    "<p style = \"font-size:12pt\">\n",
    "✨Default Logistic Regression 模型\n",
    "</p>"
   ]
  },
  {
   "cell_type": "code",
   "execution_count": 26,
   "metadata": {},
   "outputs": [
    {
     "name": "stdout",
     "output_type": "stream",
     "text": [
      "accuracy: 0.68\n",
      "precision: 0.68\n",
      "recall: 0.68\n",
      "fscore: 0.68\n"
     ]
    }
   ],
   "source": [
    "model_metrics(prediction_default, label_test)"
   ]
  },
  {
   "attachments": {},
   "cell_type": "markdown",
   "metadata": {},
   "source": [
    "<p style = \"font-size:12pt\">\n",
    "✨lbfgs + none\n",
    "</p>"
   ]
  },
  {
   "cell_type": "code",
   "execution_count": 27,
   "metadata": {},
   "outputs": [
    {
     "name": "stdout",
     "output_type": "stream",
     "text": [
      "accuracy: 0.7\n",
      "precision: 0.7\n",
      "recall: 0.7\n",
      "fscore: 0.7\n"
     ]
    }
   ],
   "source": [
    "model_metrics(prediction_lbfgs_none, label_test)"
   ]
  },
  {
   "attachments": {},
   "cell_type": "markdown",
   "metadata": {},
   "source": [
    "<p style = \"font-size:12pt\">\n",
    "✨liblinear + l1<br>\n",
    "</p>"
   ]
  },
  {
   "cell_type": "code",
   "execution_count": 28,
   "metadata": {},
   "outputs": [
    {
     "name": "stdout",
     "output_type": "stream",
     "text": [
      "accuracy: 0.69\n",
      "precision: 0.69\n",
      "recall: 0.69\n",
      "fscore: 0.69\n"
     ]
    }
   ],
   "source": [
    "model_metrics(prediction_liblinear_l1, label_test)"
   ]
  },
  {
   "attachments": {},
   "cell_type": "markdown",
   "metadata": {},
   "source": [
    "<p style = \"font-size:12pt\">\n",
    "✨liblinear + l2<br>\n",
    "</p>"
   ]
  },
  {
   "cell_type": "code",
   "execution_count": 29,
   "metadata": {},
   "outputs": [
    {
     "name": "stdout",
     "output_type": "stream",
     "text": [
      "accuracy: 0.69\n",
      "precision: 0.69\n",
      "recall: 0.69\n",
      "fscore: 0.69\n"
     ]
    }
   ],
   "source": [
    "model_metrics(prediction_liblinear_l2, label_test)"
   ]
  },
  {
   "attachments": {},
   "cell_type": "markdown",
   "metadata": {},
   "source": [
    "<p style = \"font-size:12pt\">\n",
    "✨optimal SGD<br>\n",
    "</p>"
   ]
  },
  {
   "cell_type": "code",
   "execution_count": 30,
   "metadata": {},
   "outputs": [
    {
     "name": "stdout",
     "output_type": "stream",
     "text": [
      "accuracy: 0.7\n",
      "precision: 0.7\n",
      "recall: 0.7\n",
      "fscore: 0.7\n"
     ]
    }
   ],
   "source": [
    "model_metrics(prediction_SGD_optimal, label_test)"
   ]
  },
  {
   "attachments": {},
   "cell_type": "markdown",
   "metadata": {},
   "source": [
    "<p style = \"font-size:12pt\">\n",
    "✨constant SGD<br>\n",
    "</p>"
   ]
  },
  {
   "cell_type": "code",
   "execution_count": 31,
   "metadata": {},
   "outputs": [
    {
     "name": "stdout",
     "output_type": "stream",
     "text": [
      "accuracy: 0.69\n",
      "precision: 0.69\n",
      "recall: 0.69\n",
      "fscore: 0.69\n"
     ]
    }
   ],
   "source": [
    "model_metrics(prediction_SGD_constant, label_test)"
   ]
  },
  {
   "attachments": {},
   "cell_type": "markdown",
   "metadata": {},
   "source": [
    "<p style = \"font-size:12pt\">\n",
    "✨invscaling SGD<br>\n",
    "</p>"
   ]
  },
  {
   "cell_type": "code",
   "execution_count": 32,
   "metadata": {},
   "outputs": [
    {
     "name": "stdout",
     "output_type": "stream",
     "text": [
      "accuracy: 0.66\n",
      "precision: 0.66\n",
      "recall: 0.66\n",
      "fscore: 0.66\n"
     ]
    }
   ],
   "source": [
    "model_metrics(prediction_SGD_invscaling, label_test)"
   ]
  },
  {
   "attachments": {},
   "cell_type": "markdown",
   "metadata": {},
   "source": [
    "<p style = \"font-size:12pt\">\n",
    "✨用了 mini-batch 的 SGD<br>\n",
    "</p>"
   ]
  },
  {
   "cell_type": "code",
   "execution_count": 33,
   "metadata": {},
   "outputs": [
    {
     "name": "stdout",
     "output_type": "stream",
     "text": [
      "accuracy: 0.68\n",
      "precision: 0.7\n",
      "recall: 0.68\n",
      "fscore: 0.67\n"
     ]
    }
   ],
   "source": [
    "model_metrics(prediction_batch, label_test)"
   ]
  },
  {
   "attachments": {},
   "cell_type": "markdown",
   "metadata": {},
   "source": [
    "<p style = \"font-size:12pt\">\n",
    "✨分數統整<br>\n",
    "</p>\n",
    "<table>\n",
    "<tr style = \"background-color: #FFECF5\">\n",
    "  <th>&emsp;&emsp;</th>\n",
    "  <th>accuracy</th>\n",
    "  <th>precision</th>\n",
    "  <th>recall</th>\n",
    "  <th>f-score</th>\n",
    "<tr>\n",
    "<tr>\n",
    "  <td style = \"background-color: \t#D2E9FF\">default LR</td>\n",
    "  <td>0.68</td>\n",
    "  <td>0.68</td>\n",
    "  <td>0.68</td>\n",
    "  <td>0.68</td>\n",
    "</tr>\n",
    "<tr>\n",
    "  <td style = \"background-color: \t#D2E9FF\">lbfgs + none</td>\n",
    "  <td>0.70</td>\n",
    "  <td>0.70</td>\n",
    "  <td>0.70</td>\n",
    "  <td>0.70</td>\n",
    "</tr>\n",
    "<tr>\n",
    "  <td style = \"background-color: \t#D2E9FF\">liblinear + l1</td>\n",
    "  <td>0.69</td>\n",
    "  <td>0.69</td>\n",
    "  <td>0.69</td>\n",
    "  <td>0.69</td>\n",
    "</tr>\n",
    "<tr>\n",
    "  <td style = \"background-color: \t#D2E9FF\">liblinear + l2</td>\n",
    "  <td>0.69</td>\n",
    "  <td>0.69</td>\n",
    "  <td>0.69</td>\n",
    "  <td>0.69</td>\n",
    "</tr>\n",
    "<tr>\n",
    "  <td style = \"background-color: \t#D2E9FF\">optimal SGD</td>\n",
    "  <td>0.70</td>\n",
    "  <td>0.70</td>\n",
    "  <td>0.70</td>\n",
    "  <td>0.70</td>\n",
    "</tr>\n",
    "<tr>\n",
    "  <td style = \"background-color: \t#D2E9FF\">constant SGD</td>\n",
    "  <td>0.69</td>\n",
    "  <td>0.69</td>\n",
    "  <td>0.69</td>\n",
    "  <td>0.69</td>\n",
    "</tr>\n",
    "<tr>\n",
    "  <td style = \"background-color: \t#D2E9FF\">invscaling SGD</td>\n",
    "  <td>0.66</td>\n",
    "  <td>0.66</td>\n",
    "  <td>0.66</td>\n",
    "  <td>0.66</td>\n",
    "</tr>\n",
    "<tr>\n",
    "  <td style = \"background-color: \t#D2E9FF\">mini-batch</td>\n",
    "  <td>0.68</td>\n",
    "  <td>0.70</td>\n",
    "  <td>0.68</td>\n",
    "  <td>0.67</td>\n",
    "</tr>\n",
    "  </table>"
   ]
  },
  {
   "attachments": {},
   "cell_type": "markdown",
   "metadata": {},
   "source": [
    "<p style = \"font-size:12pt\">\n",
    "✨learning-rate 變換<br>\n",
    "</p>"
   ]
  },
  {
   "cell_type": "code",
   "execution_count": 97,
   "metadata": {},
   "outputs": [
    {
     "name": "stdout",
     "output_type": "stream",
     "text": [
      "learning-rate: 0.1 / f-score: 0.69 | learning-rate: 0.2 / f-score: 0.68 | learning-rate: 0.3 / f-score: 0.69\n",
      "learning-rate: 0.2 / f-score: 0.68 | learning-rate: 0.3 / f-score: 0.69 | learning-rate: 0.4 / f-score: 0.67\n",
      "learning-rate: 0.3 / f-score: 0.69 | learning-rate: 0.4 / f-score: 0.67 | learning-rate: 0.5 / f-score: 0.67\n",
      "learning-rate: 0.4 / f-score: 0.67 | learning-rate: 0.5 / f-score: 0.67 | learning-rate: 0.6 / f-score: 0.65\n",
      "learning-rate: 0.5 / f-score: 0.67 | learning-rate: 0.6 / f-score: 0.65 | learning-rate: 0.7 / f-score: 0.64\n",
      "learning-rate: 0.6 / f-score: 0.65 | learning-rate: 0.7 / f-score: 0.64 | learning-rate: 0.8 / f-score: 0.63\n",
      "learning-rate: 0.7 / f-score: 0.64 | learning-rate: 0.8 / f-score: 0.63 | learning-rate: 0.9 / f-score: 0.62\n",
      "learning-rate: 0.8 / f-score: 0.63 | learning-rate: 0.9 / f-score: 0.62 | learning-rate: 1.0 / f-score: 0.6\n",
      "learning-rate: 0.9 / f-score: 0.62 | learning-rate: 1.0 / f-score: 0.6 | learning-rate: 1.1 / f-score: 0.59\n",
      "learning-rate: 1.0 / f-score: 0.6 | learning-rate: 1.1 / f-score: 0.59 | learning-rate: 1.2 / f-score: 0.57\n"
     ]
    }
   ],
   "source": [
    "rates = []\n",
    "for i in range(30):\n",
    "    rate = 0.1*(i+1)\n",
    "    rate_model = SGDClassifier(loss=\"log\", learning_rate=\"constant\", max_iter=500, eta0=rate, random_state=168).fit(feature_train, np.ravel(label_train))\n",
    "    prediction = rate_model.predict(feature_test)\n",
    "    fscore = precision_recall_fscore_support(label_test, prediction, average=\"macro\")[2]\n",
    "    rates.append([round(rate,1), round(fscore,2)])\n",
    "\n",
    "rate_data = pd.DataFrame(rates, columns = [\"learning-rate\", \"f-score\"])\n",
    "\n",
    "for i in range(10):\n",
    "    print(\"learning-rate: \"+str(rates[i][0])+\" / f-score: \"+str(rates[i][1])+\" | learning-rate: \"+str(rates[i+1][0])+\" / f-score: \"+str(rates[i+1][1])+\" | learning-rate: \"+str(rates[i+2][0])+\" / f-score: \"+str(rates[i+2][1]))"
   ]
  },
  {
   "cell_type": "code",
   "execution_count": 98,
   "metadata": {},
   "outputs": [
    {
     "data": {
      "text/plain": [
       "(0.0, 1.0)"
      ]
     },
     "execution_count": 98,
     "metadata": {},
     "output_type": "execute_result"
    },
    {
     "data": {
      "image/png": "[encoded data removed]",
      "text/plain": [
       "<Figure size 640x480 with 1 Axes>"
      ]
     },
     "metadata": {},
     "output_type": "display_data"
    }
   ],
   "source": [
    "sns.lineplot(\n",
    "data=rate_data, x=\"learning-rate\", y=\"f-score\").set_ylim(0,1)"
   ]
  },
  {
   "attachments": {},
   "cell_type": "markdown",
   "metadata": {},
   "source": [
    "<p align = \"center\", style = \"font-size:16pt\">\n",
    "    🧐<b>討論</b>🧐<br>\n",
    "</p>\n",
    "<p style = \"font-size:12pt\">\n",
    "   &emsp;&emsp;從表格裡面可以發現，調整了不同參數的簡單LR模型做出來的結果都差不多，又以<code>lfbgs</code>不使用penalty的組合最好，可以達到0.7的F-score。推測會有這樣的結果是因為兩種演算法確實都適用於少量資料的分類任務（說實話我還是不太確定到底要到多少才是大）。另外，上面沒有提到<code>lfbgs</code>的一大特色就是在計算的過程中他只保留比較重要的參數資料，所以很節省記憶體。可能是因為這樣他才被選擇作為預設的演算法。只是在這次作業的小資料應用跟以F-score評估的方式裡面可能就看不出差別。<br>\n",
    "   &emsp;&emsp;使用SGD的LR模型裡面，<code>optimal</code>模式的learning rate出來的結果是三種裡面最好的。這個部分可以明顯看出三種模式的差異性。因為<code>constant</code>模式在模型訓練的過程中始終使用相同的數值，所以一定比逐步調整更新的<code>optimal</code>表現要差；而<code>invscaling</code>則是常用於regression的模式，因此在分類任務上的結果就比較不理想。<br>\n",
    "   &emsp;&ensp;最後從用不同learning rate訓練出模型之F-score可以發現在0.1~3.0之間，當learning rate越大，訓練出的模型表現越差。這其實也跟SGD模型裡面<code>optimal</code>模式的算法相互映證。在該模式中，learning rate會隨著時間遞進逐步向下調整使模型達到更佳的表現。由此我們可以找到對learning rate調整的大致方向應該如何進行。\n",
    "</p>\n"
   ]
  }
 ],
 "metadata": {
  "kernelspec": {
   "display_name": "base",
   "language": "python",
   "name": "python3"
  },
  "language_info": {
   "codemirror_mode": {
    "name": "ipython",
    "version": 3
   },
   "file_extension": ".py",
   "mimetype": "text/x-python",
   "name": "python",
   "nbconvert_exporter": "python",
   "pygments_lexer": "ipython3",
   "version": "3.9.13"
  },
  "orig_nbformat": 4
 },
 "nbformat": 4,
 "nbformat_minor": 2
}
