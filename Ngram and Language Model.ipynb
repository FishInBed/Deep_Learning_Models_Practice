{
 "cells": [
  {
   "attachments": {},
   "cell_type": "markdown",
   "metadata": {},
   "source": [
    "**余盈蓓；語碩二；110555009**\\\n",
    "**111-2 Computational Linguistics**\n",
    "<p align=\"center\", style = \"font-size:18pt\">\n",
    "<b>1st Assignment<br>\n",
    "N-gram and Language Model</b>\n",
    "</p>"
   ]
  },
  {
   "attachments": {},
   "cell_type": "markdown",
   "metadata": {},
   "source": [
    "<p align=\"center\">\n",
    "以下將使用ptt電影板上關於《月老》這部電影的50篇討論或影評訓練N-gram模型，並嘗試使用該模型生成電影觀後感。<br>\n",
    "<br>\n",
    "--------------------------------------⚡如果你沒看過《月老》，以下資料可能會暴雷，所以先來個防雷線⚡--------------------------------------\n",
    "</p>\n"
   ]
  },
  {
   "attachments": {},
   "cell_type": "markdown",
   "metadata": {},
   "source": [
    "<p style = \"font-size:14pt\">\n",
    "<b>Step 1. 資料前處理</b>\n",
    "</p>\n",
    "<p style = \"font-size:12pt\">\n",
    "✨資料讀入\n",
    "</p>"
   ]
  },
  {
   "cell_type": "code",
   "execution_count": 1,
   "metadata": {},
   "outputs": [
    {
     "data": {
      "text/html": [
       "<div>\n",
       "<style scoped>\n",
       "    .dataframe tbody tr th:only-of-type {\n",
       "        vertical-align: middle;\n",
       "    }\n",
       "\n",
       "    .dataframe tbody tr th {\n",
       "        vertical-align: top;\n",
       "    }\n",
       "\n",
       "    .dataframe thead th {\n",
       "        text-align: right;\n",
       "    }\n",
       "</style>\n",
       "<table border=\"1\" class=\"dataframe\">\n",
       "  <thead>\n",
       "    <tr style=\"text-align: right;\">\n",
       "      <th></th>\n",
       "      <th>text</th>\n",
       "    </tr>\n",
       "  </thead>\n",
       "  <tbody>\n",
       "    <tr>\n",
       "      <th>0</th>\n",
       "      <td>本來對這部片沒什麼興趣的，但女伴很堅持一定要看，一直盧才去看的，在此之前我對九把刀是毫無成見...</td>\n",
       "    </tr>\n",
       "    <tr>\n",
       "      <th>1</th>\n",
       "      <td>◎ 片名：月老 (Till We Meet Again)◎ 類型：奇幻/劇情◎ 年份：202...</td>\n",
       "    </tr>\n",
       "    <tr>\n",
       "      <th>2</th>\n",
       "      <td>看完了月老 覺得人物的情感刻劃太淺薄反正愛上就愛上 不用什麼相處 不用什麼理由有點出戲 不是很喜歡</td>\n",
       "    </tr>\n",
       "    <tr>\n",
       "      <th>3</th>\n",
       "      <td>不知道算不算雷，還是先防雷一下~~~~~~~~~~~~~~~~~~~~~~~~~~~先說沒看...</td>\n",
       "    </tr>\n",
       "    <tr>\n",
       "      <th>4</th>\n",
       "      <td>雷文防雷資訊頁~*-*~*-*~*-*~*-*~*-*~*-*~*-*~*-*~*-*~*-...</td>\n",
       "    </tr>\n",
       "  </tbody>\n",
       "</table>\n",
       "</div>"
      ],
      "text/plain": [
       "                                                text\n",
       "0  本來對這部片沒什麼興趣的，但女伴很堅持一定要看，一直盧才去看的，在此之前我對九把刀是毫無成見...\n",
       "1  ◎ 片名：月老 (Till We Meet Again)◎ 類型：奇幻/劇情◎ 年份：202...\n",
       "2  看完了月老 覺得人物的情感刻劃太淺薄反正愛上就愛上 不用什麼相處 不用什麼理由有點出戲 不是很喜歡\n",
       "3  不知道算不算雷，還是先防雷一下~~~~~~~~~~~~~~~~~~~~~~~~~~~先說沒看...\n",
       "4  雷文防雷資訊頁~*-*~*-*~*-*~*-*~*-*~*-*~*-*~*-*~*-*~*-..."
      ]
     },
     "execution_count": 1,
     "metadata": {},
     "output_type": "execute_result"
    }
   ],
   "source": [
    "import pandas as pd\n",
    "\n",
    "data = pd.read_csv(\"data.csv\")\n",
    "data.head()"
   ]
  },
  {
   "attachments": {},
   "cell_type": "markdown",
   "metadata": {},
   "source": [
    "<p style = \"font-size:12pt\">\n",
    "✨資料清洗－主要針對防雷線跟網址做處理\n",
    "</p>"
   ]
  },
  {
   "cell_type": "code",
   "execution_count": 2,
   "metadata": {},
   "outputs": [],
   "source": [
    "import re\n",
    "clean_text = []\n",
    "for text in data[\"text\"]:\n",
    "    step1 = re.sub(r\"https://[^\\u4e00-\\u9fa5]+\", \" \", text)\n",
    "    step2 = re.sub(r\"(雷文防雷資訊頁)?(~\\*-\\*)+~\", \" \", step1)\n",
    "    step3 = re.sub(r\"[~～]+( 雷文 主文分隔線 )?[~～]+\", \" \", step2)\n",
    "    clean_text.append(step3)"
   ]
  },
  {
   "cell_type": "code",
   "execution_count": 128,
   "metadata": {},
   "outputs": [
    {
     "data": {
      "text/plain": [
       "['不知道算不算雷，還是先防雷一下 先說沒看過小說，好奇鬼頭城附身小孩子吃蛤蜊那段是原作就有的嗎？總覺得很像電影猛毒的情節...另外我一直覺得鬼頭城長的很像kid雖然他演的很好，不過我還是一直出戲...',\n",
       " '  周遭朋友一陣好評，今天特地去電影院看，真的還不錯，從頭哭到尾，但和小說還原度比起來，真的有點失望，小說有些橋段太經典，電影還原度小說真的不太高。小說中男主角要小咪開一間咖啡館，等一個每天不管刮風、下雨、或是天打雷劈都要來喝<老闆娘特調>的人，這是我覺得月老最經典片段，他們養的是一隻叫阿苦的貓，這隻貓貫穿了「月老」與「等一個人咖啡」，電影變成叫阿魯的狗。還有小說裡除了綁紅線一直失敗的月老，還有慕名從國外來幫配對的邱比特，欺騙失智月老騙走織女的七世紅線，集結眾月老之力要把小咪牽上那個輪胎女月老的男友音樂家，我都覺得蠻經典的，但都被改掉了~雖然電影蠻好看的啦，小說是月老貫穿等一個人咖啡，但電影是兩部電影，覺得這些經典部分被改掉好可惜。']"
      ]
     },
     "execution_count": 128,
     "metadata": {},
     "output_type": "execute_result"
    }
   ],
   "source": [
    "clean_text[3:5]"
   ]
  },
  {
   "attachments": {},
   "cell_type": "markdown",
   "metadata": {},
   "source": [
    "<p style = \"font-size:12pt\">\n",
    "✨斷詞\n",
    "</p>"
   ]
  },
  {
   "cell_type": "code",
   "execution_count": 3,
   "metadata": {},
   "outputs": [
    {
     "name": "stderr",
     "output_type": "stream",
     "text": [
      "c:\\Users\\c5227\\anaconda3\\lib\\site-packages\\ckiptagger\\model_ws.py:106: UserWarning: `tf.nn.rnn_cell.LSTMCell` is deprecated and will be removed in a future version. This class is equivalent as `tf.keras.layers.LSTMCell`, and will be replaced by that in Tensorflow 2.0.\n",
      "  cell = tf.compat.v1.nn.rnn_cell.LSTMCell(hidden_d, name=name)\n"
     ]
    }
   ],
   "source": [
    "from ckiptagger import WS\n",
    "\n",
    "ws = WS(\"D:\\In Bed\\研究所\\碩二下\\計畫\\data\")\n",
    "\n",
    "tokenized_data = []\n",
    "\n",
    "for text in clean_text:\n",
    "    sent = re.split(r\"[，。 ！？,\\.!?]+\", text) #用標點符號作為斷句依據\n",
    "    for sentence in sent:\n",
    "        tokens = ws([sentence])\n",
    "        if len(tokens[0]) != 0:\n",
    "            tokenized_data.append(tokens[0])"
   ]
  },
  {
   "attachments": {},
   "cell_type": "markdown",
   "metadata": {},
   "source": [
    "<p style = \"font-size:14pt\">\n",
    "<b>Step 2. 準備N-gram</b>\n",
    "</p>"
   ]
  },
  {
   "cell_type": "code",
   "execution_count": 10,
   "metadata": {},
   "outputs": [],
   "source": [
    "from nltk.lm.preprocessing import padded_everygram_pipeline\n",
    "\n",
    "n = 3\n",
    "train_pad_ngrams, flat_vocab = padded_everygram_pipeline(n, tokenized_data)"
   ]
  },
  {
   "attachments": {},
   "cell_type": "markdown",
   "metadata": {},
   "source": [
    "<p style = \"font-size:14pt\">\n",
    "<b>Step 3. 模型訓練</b>\n",
    "</p>\n",
    "<p style = \"font-size:12pt\">\n",
    "✨原始N-gram模型\n",
    "</p>"
   ]
  },
  {
   "cell_type": "code",
   "execution_count": 5,
   "metadata": {},
   "outputs": [
    {
     "name": "stdout",
     "output_type": "stream",
     "text": [
      "<Vocabulary with cutoff=1 unk_label='<UNK>' and 4106 items>\n"
     ]
    }
   ],
   "source": [
    "from nltk.lm import MLE\n",
    "\n",
    "MLE_model = MLE(n)\n",
    "MLE_model.fit(train_pad_ngrams, flat_vocab)\n",
    "\n",
    "print(MLE_model.vocab)"
   ]
  },
  {
   "attachments": {},
   "cell_type": "markdown",
   "metadata": {},
   "source": [
    "<p style = \"font-size:12pt\">\n",
    "✨用KneserNeyInterpolated平滑處理\n",
    "</p>"
   ]
  },
  {
   "cell_type": "code",
   "execution_count": 11,
   "metadata": {},
   "outputs": [
    {
     "name": "stdout",
     "output_type": "stream",
     "text": [
      "<Vocabulary with cutoff=1 unk_label='<UNK>' and 4106 items>\n"
     ]
    }
   ],
   "source": [
    "from nltk.lm import KneserNeyInterpolated\n",
    "\n",
    "KNI_model = KneserNeyInterpolated(n)\n",
    "KNI_model.fit(train_pad_ngrams, flat_vocab)\n",
    "\n",
    "print(KNI_model.vocab)"
   ]
  },
  {
   "attachments": {},
   "cell_type": "markdown",
   "metadata": {},
   "source": [
    "<p style = \"font-size:14pt\">\n",
    "<b>Step 4. 文本生成</b>\n",
    "</p>\n",
    "<p style = \"font-size:12pt\">\n",
    "✨定義美化生成文本的函式\n",
    "</p>"
   ]
  },
  {
   "cell_type": "code",
   "execution_count": 12,
   "metadata": {},
   "outputs": [],
   "source": [
    "def generate_sent(model, word_amount, seed):\n",
    "    content = []\n",
    "    for token in model.generate(word_amount, random_seed=seed):\n",
    "        if token == '<s>':\n",
    "            continue\n",
    "        if token == '</s>':\n",
    "            break\n",
    "        content.append(token)\n",
    "    return \"\".join(content)"
   ]
  },
  {
   "attachments": {},
   "cell_type": "markdown",
   "metadata": {},
   "source": [
    "<p style = \"font-size:12pt\">\n",
    "✨原始N-gram模型生成文本\n",
    "</p>"
   ]
  },
  {
   "cell_type": "code",
   "execution_count": 13,
   "metadata": {},
   "outputs": [
    {
     "name": "stdout",
     "output_type": "stream",
     "text": [
      "我覺得還是王淨的角色(Pinky)像是一種「我投胎的其他回憶在哪裡為什麼只記得這份尷尬有多尷尬\n",
      "就是我幾歲看都很精采\n"
     ]
    }
   ],
   "source": [
    "print(generate_sent(MLE_model, 40, 5))\n",
    "print(generate_sent(MLE_model, 10, 10))"
   ]
  },
  {
   "attachments": {},
   "cell_type": "markdown",
   "metadata": {},
   "source": [
    "<p style = \"font-size:12pt\">\n",
    "✨KneserNeyInterpolated模型生成文本\n",
    "</p>"
   ]
  },
  {
   "cell_type": "code",
   "execution_count": 120,
   "metadata": {},
   "outputs": [
    {
     "data": {
      "text/plain": [
       "'連貫的感受但這部電影裡是有做好事、投好胎的人'"
      ]
     },
     "execution_count": 120,
     "metadata": {},
     "output_type": "execute_result"
    }
   ],
   "source": [
    "generate_sent(KNI_model, 20, 20)"
   ]
  },
  {
   "cell_type": "code",
   "execution_count": 121,
   "metadata": {},
   "outputs": [
    {
     "data": {
      "text/plain": [
       "'看得到九把刀或許不是這樣的'"
      ]
     },
     "execution_count": 121,
     "metadata": {},
     "output_type": "execute_result"
    }
   ],
   "source": [
    "generate_sent(KNI_model, 20, 168)"
   ]
  }
 ],
 "metadata": {
  "kernelspec": {
   "display_name": "base",
   "language": "python",
   "name": "python3"
  },
  "language_info": {
   "codemirror_mode": {
    "name": "ipython",
    "version": 3
   },
   "file_extension": ".py",
   "mimetype": "text/x-python",
   "name": "python",
   "nbconvert_exporter": "python",
   "pygments_lexer": "ipython3",
   "version": "3.9.13"
  },
  "orig_nbformat": 4,
  "vscode": {
   "interpreter": {
    "hash": "eee8ebf69407a7ef35d4adf15818993a36e6c576e8bb2535d7c9bac5c8386c87"
   }
  }
 },
 "nbformat": 4,
 "nbformat_minor": 2
}
